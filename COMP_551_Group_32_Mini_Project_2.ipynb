{
  "nbformat": 4,
  "nbformat_minor": 0,
  "metadata": {
    "colab": {
      "name": "COMP 551 - Group 32 - Mini Project 2.ipynb",
      "provenance": [],
      "collapsed_sections": [
        "UfvAyJqvP7Vm",
        "fAquz4xOa3Uh",
        "LV4SJyOz3bXl"
      ],
      "toc_visible": true
    },
    "kernelspec": {
      "display_name": "Python 3",
      "name": "python3"
    },
    "language_info": {
      "name": "python"
    }
  },
  "cells": [
    {
      "cell_type": "code",
      "metadata": {
        "id": "854wPzkvMLt2"
      },
      "source": [
        "import numpy as np\n",
        "import pandas as pd\n",
        "import seaborn as sns\n",
        "#%matplotlib notebook\n",
        "%matplotlib inline\n",
        "import matplotlib.pyplot as plt\n",
        "from IPython.core.debugger import set_trace\n",
        "from sklearn.metrics import confusion_matrix, ConfusionMatrixDisplay\n",
        "import warnings\n",
        "import time\n",
        "warnings.filterwarnings('ignore')\n",
        "\n",
        "# imports for Part 2\n",
        "\n",
        "from sklearn.linear_model import LogisticRegression\n",
        "from sklearn.feature_extraction.text import CountVectorizer\n",
        "from sklearn.feature_extraction.text import TfidfTransformer\n",
        "from sklearn.model_selection import GridSearchCV\n",
        "\n",
        "# !pip install contractions # install contractions package\n",
        "\n",
        "# import contractions\n"
      ],
      "execution_count": null,
      "outputs": []
    },
    {
      "cell_type": "code",
      "metadata": {
        "colab": {
          "base_uri": "https://localhost:8080/",
          "height": 298
        },
        "id": "BNQhRm3LV38R",
        "outputId": "971e6945-140f-4a5c-d1b3-4b7bc5b7231a"
      },
      "source": [
        "logistic = lambda z: 1./ (1 + np.exp(-z))       #logistic function\n",
        "z = np.linspace(-10,10,100)\n",
        "plt.plot(z, logistic(z))\n",
        "plt.title('logistic function')"
      ],
      "execution_count": null,
      "outputs": [
        {
          "output_type": "execute_result",
          "data": {
            "text/plain": [
              "Text(0.5, 1.0, 'logistic function')"
            ]
          },
          "metadata": {},
          "execution_count": 134
        },
        {
          "output_type": "display_data",
          "data": {
            "image/png": "[encoded data removed]",
            "text/plain": [
              "<Figure size 432x288 with 1 Axes>"
            ]
          },
          "metadata": {
            "needs_background": "light"
          }
        }
      ]
    },
    {
      "cell_type": "markdown",
      "metadata": {
        "id": "HrMZS5yGWgsw"
      },
      "source": [
        "## Cost function\n",
        "To fit our model $f_w$ to the data $\\mathcal{D} = \\{x^{(1)}, \\ldots, x^{(N)}\\}$, we maximize the **logarithm of the conditional likelihood**:\n",
        "\n",
        "$$\n",
        "\\ell(w; \\mathcal{D}) = \\sum_n \\log \\mathrm{Bernoulli}(y^{(n)} | \\sigma({x^{(n)}}^\\top w)) = \\sum_n y^{(n)} \\log \\sigma({x^{(n)}}^\\top w)) + (1-y^{(n)}) \\log (1-\\sigma({x^{(n)}}^\\top w)))\n",
        "$$\n",
        "\n",
        "by substituting the definition of logistic function in the equation above, and minimizing the **negative** of the log-likelihood, which is called the **cost function**,\n",
        "we get\n",
        "\n",
        "$$\n",
        "J(w) = \\sum_n y^{(n)} \\log(1+e^{-x w^\\top}) + (1-y^{(n)}) \\log(1+e^{x w^\\top})\n",
        "$$\n",
        "\n",
        "In practice we use mean rather than sum over data points."
      ]
    },
    {
      "cell_type": "code",
      "metadata": {
        "id": "x_fc-NU9WEkt"
      },
      "source": [
        "def cost_fn(x, y, w):\n",
        "    N, D = x.shape                                                       \n",
        "    z = np.dot(x, w)\n",
        "    J = np.mean(y * np.log1p(np.exp(-z)) + (1-y) * np.log1p(np.exp(z)))  #log1p calculates log(1+x) to remove floating point inaccuracies \n",
        "    return J"
      ],
      "execution_count": null,
      "outputs": []
    },
    {
      "cell_type": "markdown",
      "metadata": {
        "id": "nrDsqUP5WlAm"
      },
      "source": [
        "## Minimizing the cost using gradient descent\n",
        "To minimize the cost we use gradient descent: start from some initial assignment to the parameters $w$, and at each iteration take a small step in the opposite direction of the *gradient*. The gradient of the cost function above is given by:\n",
        "\n",
        "$$\n",
        "\\frac{\\partial}{\\partial w_d} J(w) =\\sum_n - y^{(n)} x^{(n)}_d \\frac{e^{-w^\\top x^{(n)}}}{1 + e^{-w^\\top x^{(n)}}} +x^{(n)}_d (1- y^{(n)}) \\frac{e^{w^\\top x^{(n)}}}{1 + e^{w^\\top x^{(n)}}} = \\sum_n - x^{(n)}_d y^{(n)} (1-\\hat{y}^{(n)})+ x^{(n)}_d (1- y^{(n)}) \\hat{y}^{(n)} = x^{(n)}_d (\\hat{y}^{(n)} - y^{(n)}) \n",
        "$$\n",
        "Since in practice we divide the cost by $N$, we have to the same for the gradient; see the implementation below."
      ]
    },
    {
      "cell_type": "code",
      "metadata": {
        "id": "yVGDVhJRWFT7"
      },
      "source": [
        "def gradient(self, x, y):\n",
        "    N,D = x.shape\n",
        "    yh = logistic(np.dot(x, self.w))    # predictions  size N\n",
        "    grad = np.dot(x.T, yh - y)/N        # divide by N because cost is mean over N points\n",
        "    return grad                         # size D"
      ],
      "execution_count": null,
      "outputs": []
    },
    {
      "cell_type": "markdown",
      "metadata": {
        "id": "zI9i8c__WcJo"
      },
      "source": [
        "## Logistic regression class\n",
        "Now we are ready to implement the logistic regression class with the usual `fit` and `predict` methods. Here, the `fit` method implements gradient descent."
      ]
    },
    {
      "cell_type": "code",
      "metadata": {
        "id": "_7xrQdkVWJir"
      },
      "source": [
        "class LogisticRegression:\n",
        "    \n",
        "    def __init__(self, add_bias=True, learning_rate=.1, epsilon=1e-4, max_iters=1e5, verbose=False):\n",
        "        self.add_bias = add_bias\n",
        "        self.learning_rate = learning_rate\n",
        "        self.epsilon = epsilon                        #to get the tolerance for the norm of gradients \n",
        "        self.max_iters = max_iters                    #maximum number of iteration of gradient descent\n",
        "        self.verbose = verbose\n",
        "        \n",
        "    def fit(self, x, y):\n",
        "        if x.ndim == 1:\n",
        "            x = x[:, None]\n",
        "        if self.add_bias:\n",
        "            N = x.shape[0]\n",
        "            x = np.column_stack([x,np.ones(N)])\n",
        "        N,D = x.shape\n",
        "        self.w = np.zeros(D)\n",
        "        g = np.inf \n",
        "        t = 0\n",
        "        # the code snippet below is for gradient descent\n",
        "        while np.linalg.norm(g) > self.epsilon and t < self.max_iters:\n",
        "            g = self.gradient(x, y)\n",
        "            self.w = self.w - self.learning_rate * g \n",
        "            t += 1\n",
        "        \n",
        "        if self.verbose:\n",
        "            print(f'terminated after {t} iterations, with norm of the gradient equal to {np.linalg.norm(g)}')\n",
        "            print(f'the weight found: {self.w}')\n",
        "        return self\n",
        "    \n",
        "    def predict(self, x):\n",
        "        if x.ndim == 1:\n",
        "            x = x[:, None]\n",
        "        Nt = x.shape[0]\n",
        "        if self.add_bias:\n",
        "            x = np.column_stack([x,np.ones(Nt)])\n",
        "        yh = logistic(np.dot(x,self.w))            #predict output\n",
        "        return yh\n",
        "\n",
        "LogisticRegression.gradient = gradient             #initialize the gradient method of the LogisticRegression class with gradient function"
      ],
      "execution_count": null,
      "outputs": []
    },
    {
      "cell_type": "markdown",
      "metadata": {
        "id": "UfvAyJqvP7Vm"
      },
      "source": [
        "# Part 1. Optimization when including 'Insulin' feature"
      ]
    },
    {
      "cell_type": "code",
      "metadata": {
        "colab": {
          "base_uri": "https://localhost:8080/"
        },
        "id": "tjm7ghmAVNf7",
        "outputId": "8b934eb9-79bd-4964-aa7b-79e0b26277e2"
      },
      "source": [
        "# ignore tf–idf transformation\n",
        "\n",
        "n_min = [0, 0.05, 0.1]\n",
        "n_max = [0.6, 0.70]\n",
        "ngrams = [(1, 1), (1, 2), (1, 3)]\n",
        "\n",
        "accuracies = []\n",
        "\n",
        "for min in n_min:\n",
        "  for max in n_max:\n",
        "    for item in ngrams:\n",
        "      # build dictionary of features and transform documents to feature vectors using CountVectorizer from sklearn\n",
        "      count_vect = CountVectorizer(strip_accents='unicode', ngram_range=item, max_df=max, min_df=min, max_features=None)\n",
        "      X_train_counts = count_vect.fit_transform(df_train['text'])\n",
        "\n",
        "      # train logistic regression model\n",
        "\n",
        "      clf = LogisticRegression().fit(X_train_counts, df_train['label'])\n",
        "\n",
        "      # extract features from test dataset to calculate predictions\n",
        "      X_test_counts = count_vect.transform(df_test['text'])\n",
        "\n",
        "      # make predictions\n",
        "      predictions = clf.predict(X_test_counts)\n",
        "      accuracy = np.mean(predictions == df_test['label'])\n",
        "\n",
        "      print('Parameters min, max, ngrams: {}, {}, {}'.format(min, max, item))\n",
        "      print('Accuracy: ' + str(accuracy))\n",
        "\n",
        "# best accuracy acheived: \n",
        "# Parameters min, max, ngrams: 0, 0.7, (1, 3)\n",
        "# Accuracy: 0.769"
      ],
      "execution_count": null,
      "outputs": [
        {
          "output_type": "stream",
          "name": "stdout",
          "text": [
            "Parameters min, max, ngrams: 0, 0.6, (1, 1)\n",
            "Accuracy: 0.7166666666666667\n",
            "Parameters min, max, ngrams: 0, 0.6, (1, 2)\n",
            "Accuracy: 0.758\n",
            "Parameters min, max, ngrams: 0, 0.6, (1, 3)\n",
            "Accuracy: 0.7646666666666667\n",
            "Parameters min, max, ngrams: 0, 0.7, (1, 1)\n",
            "Accuracy: 0.7186666666666667\n",
            "Parameters min, max, ngrams: 0, 0.7, (1, 2)\n",
            "Accuracy: 0.7626666666666667\n",
            "Parameters min, max, ngrams: 0, 0.7, (1, 3)\n",
            "Accuracy: 0.769\n",
            "Parameters min, max, ngrams: 0.05, 0.6, (1, 1)\n",
            "Accuracy: 0.6833333333333333\n",
            "Parameters min, max, ngrams: 0.05, 0.6, (1, 2)\n",
            "Accuracy: 0.6976666666666667\n",
            "Parameters min, max, ngrams: 0.05, 0.6, (1, 3)\n",
            "Accuracy: 0.699\n",
            "Parameters min, max, ngrams: 0.05, 0.7, (1, 1)\n",
            "Accuracy: 0.687\n",
            "Parameters min, max, ngrams: 0.05, 0.7, (1, 2)\n",
            "Accuracy: 0.6996666666666667\n",
            "Parameters min, max, ngrams: 0.05, 0.7, (1, 3)\n",
            "Accuracy: 0.699\n",
            "Parameters min, max, ngrams: 0.1, 0.6, (1, 1)\n",
            "Accuracy: 0.688\n",
            "Parameters min, max, ngrams: 0.1, 0.6, (1, 2)\n",
            "Accuracy: 0.695\n",
            "Parameters min, max, ngrams: 0.1, 0.6, (1, 3)\n",
            "Accuracy: 0.6936666666666667\n",
            "Parameters min, max, ngrams: 0.1, 0.7, (1, 1)\n",
            "Accuracy: 0.688\n",
            "Parameters min, max, ngrams: 0.1, 0.7, (1, 2)\n",
            "Accuracy: 0.6916666666666667\n",
            "Parameters min, max, ngrams: 0.1, 0.7, (1, 3)\n",
            "Accuracy: 0.6883333333333334\n"
          ]
        }
      ]
    },
    {
      "cell_type": "markdown",
      "metadata": {
        "id": "rWX2wbQcP7Vn"
      },
      "source": [
        "## 1. Baseline implementation (Including 'Insulin' feature)"
      ]
    },
    {
      "cell_type": "markdown",
      "metadata": {
        "id": "8cJplLuJP7Vn"
      },
      "source": [
        "Retrieving the diabeters dataset: (Including the 'Insulin' feature)"
      ]
    },
    {
      "cell_type": "code",
      "metadata": {
        "colab": {
          "base_uri": "https://localhost:8080/",
          "height": 443
        },
        "id": "lA--uf23P7Vo",
        "outputId": "d9368daa-6b7e-4f60-af5d-27e37e341537"
      },
      "source": [
        "from google.colab import drive\n",
        "drive.mount('/content/drive', force_remount=False)\n",
        "\n",
        "features = ['Pregnancies', 'Glucose', 'BloodPressure', 'SkinThickness', 'Insulin', 'BMI', 'DiabetesPedigreeFunction', 'Age']\n",
        "\n",
        "df_train = pd.read_csv('/content/drive/MyDrive/MCGILL/COMP-551/data_A2/diabetes/diabetes_train.csv')\n",
        "df_test = pd.read_csv('/content/drive/MyDrive/MCGILL/COMP-551/data_A2/diabetes/diabetes_test.csv')\n",
        "df_val = pd.read_csv('/content/drive/MyDrive/MCGILL/COMP-551/data_A2/diabetes/diabetes_val.csv')\n",
        "\n",
        "df_train"
      ],
      "execution_count": null,
      "outputs": [
        {
          "output_type": "stream",
          "name": "stdout",
          "text": [
            "Drive already mounted at /content/drive; to attempt to forcibly remount, call drive.mount(\"/content/drive\", force_remount=True).\n"
          ]
        },
        {
          "output_type": "execute_result",
          "data": {
            "text/html": [
              "<div>\n",
              "<style scoped>\n",
              "    .dataframe tbody tr th:only-of-type {\n",
              "        vertical-align: middle;\n",
              "    }\n",
              "\n",
              "    .dataframe tbody tr th {\n",
              "        vertical-align: top;\n",
              "    }\n",
              "\n",
              "    .dataframe thead th {\n",
              "        text-align: right;\n",
              "    }\n",
              "</style>\n",
              "<table border=\"1\" class=\"dataframe\">\n",
              "  <thead>\n",
              "    <tr style=\"text-align: right;\">\n",
              "      <th></th>\n",
              "      <th>Pregnancies</th>\n",
              "      <th>Glucose</th>\n",
              "      <th>BloodPressure</th>\n",
              "      <th>SkinThickness</th>\n",
              "      <th>Insulin</th>\n",
              "      <th>BMI</th>\n",
              "      <th>DiabetesPedigreeFunction</th>\n",
              "      <th>Age</th>\n",
              "      <th>Outcome</th>\n",
              "    </tr>\n",
              "  </thead>\n",
              "  <tbody>\n",
              "    <tr>\n",
              "      <th>0</th>\n",
              "      <td>5</td>\n",
              "      <td>144</td>\n",
              "      <td>82</td>\n",
              "      <td>26</td>\n",
              "      <td>285</td>\n",
              "      <td>32.0</td>\n",
              "      <td>0.452</td>\n",
              "      <td>58</td>\n",
              "      <td>1</td>\n",
              "    </tr>\n",
              "    <tr>\n",
              "      <th>1</th>\n",
              "      <td>0</td>\n",
              "      <td>128</td>\n",
              "      <td>68</td>\n",
              "      <td>19</td>\n",
              "      <td>180</td>\n",
              "      <td>30.5</td>\n",
              "      <td>1.391</td>\n",
              "      <td>25</td>\n",
              "      <td>1</td>\n",
              "    </tr>\n",
              "    <tr>\n",
              "      <th>2</th>\n",
              "      <td>9</td>\n",
              "      <td>156</td>\n",
              "      <td>86</td>\n",
              "      <td>28</td>\n",
              "      <td>155</td>\n",
              "      <td>34.3</td>\n",
              "      <td>1.189</td>\n",
              "      <td>42</td>\n",
              "      <td>1</td>\n",
              "    </tr>\n",
              "    <tr>\n",
              "      <th>3</th>\n",
              "      <td>1</td>\n",
              "      <td>144</td>\n",
              "      <td>82</td>\n",
              "      <td>46</td>\n",
              "      <td>180</td>\n",
              "      <td>46.1</td>\n",
              "      <td>0.335</td>\n",
              "      <td>46</td>\n",
              "      <td>1</td>\n",
              "    </tr>\n",
              "    <tr>\n",
              "      <th>4</th>\n",
              "      <td>0</td>\n",
              "      <td>179</td>\n",
              "      <td>90</td>\n",
              "      <td>27</td>\n",
              "      <td>0</td>\n",
              "      <td>44.1</td>\n",
              "      <td>0.686</td>\n",
              "      <td>23</td>\n",
              "      <td>1</td>\n",
              "    </tr>\n",
              "    <tr>\n",
              "      <th>...</th>\n",
              "      <td>...</td>\n",
              "      <td>...</td>\n",
              "      <td>...</td>\n",
              "      <td>...</td>\n",
              "      <td>...</td>\n",
              "      <td>...</td>\n",
              "      <td>...</td>\n",
              "      <td>...</td>\n",
              "      <td>...</td>\n",
              "    </tr>\n",
              "    <tr>\n",
              "      <th>595</th>\n",
              "      <td>4</td>\n",
              "      <td>158</td>\n",
              "      <td>78</td>\n",
              "      <td>0</td>\n",
              "      <td>0</td>\n",
              "      <td>32.9</td>\n",
              "      <td>0.803</td>\n",
              "      <td>31</td>\n",
              "      <td>1</td>\n",
              "    </tr>\n",
              "    <tr>\n",
              "      <th>596</th>\n",
              "      <td>12</td>\n",
              "      <td>84</td>\n",
              "      <td>72</td>\n",
              "      <td>31</td>\n",
              "      <td>0</td>\n",
              "      <td>29.7</td>\n",
              "      <td>0.297</td>\n",
              "      <td>46</td>\n",
              "      <td>1</td>\n",
              "    </tr>\n",
              "    <tr>\n",
              "      <th>597</th>\n",
              "      <td>2</td>\n",
              "      <td>158</td>\n",
              "      <td>90</td>\n",
              "      <td>0</td>\n",
              "      <td>0</td>\n",
              "      <td>31.6</td>\n",
              "      <td>0.805</td>\n",
              "      <td>66</td>\n",
              "      <td>1</td>\n",
              "    </tr>\n",
              "    <tr>\n",
              "      <th>598</th>\n",
              "      <td>2</td>\n",
              "      <td>83</td>\n",
              "      <td>66</td>\n",
              "      <td>23</td>\n",
              "      <td>50</td>\n",
              "      <td>32.2</td>\n",
              "      <td>0.497</td>\n",
              "      <td>22</td>\n",
              "      <td>0</td>\n",
              "    </tr>\n",
              "    <tr>\n",
              "      <th>599</th>\n",
              "      <td>5</td>\n",
              "      <td>187</td>\n",
              "      <td>76</td>\n",
              "      <td>27</td>\n",
              "      <td>207</td>\n",
              "      <td>43.6</td>\n",
              "      <td>1.034</td>\n",
              "      <td>53</td>\n",
              "      <td>1</td>\n",
              "    </tr>\n",
              "  </tbody>\n",
              "</table>\n",
              "<p>600 rows × 9 columns</p>\n",
              "</div>"
            ],
            "text/plain": [
              "     Pregnancies  Glucose  ...  Age  Outcome\n",
              "0              5      144  ...   58        1\n",
              "1              0      128  ...   25        1\n",
              "2              9      156  ...   42        1\n",
              "3              1      144  ...   46        1\n",
              "4              0      179  ...   23        1\n",
              "..           ...      ...  ...  ...      ...\n",
              "595            4      158  ...   31        1\n",
              "596           12       84  ...   46        1\n",
              "597            2      158  ...   66        1\n",
              "598            2       83  ...   22        0\n",
              "599            5      187  ...   53        1\n",
              "\n",
              "[600 rows x 9 columns]"
            ]
          },
          "metadata": {},
          "execution_count": 13
        }
      ]
    },
    {
      "cell_type": "markdown",
      "metadata": {
        "id": "UmpwBZVqP7Vp"
      },
      "source": [
        "Correlation matrix (diabetes dataset):"
      ]
    },
    {
      "cell_type": "code",
      "metadata": {
        "colab": {
          "base_uri": "https://localhost:8080/",
          "height": 359
        },
        "id": "BNHvJJ-lP7Vq",
        "outputId": "e91e62fd-0937-4674-c13a-d8bd24229af1"
      },
      "source": [
        "# plot correlation matrix\n",
        "corr = df_train.corr()\n",
        "ax = sns.heatmap(\n",
        "    corr, \n",
        "    vmin=-1, vmax=1, center=0,\n",
        "    cmap=sns.diverging_palette(20, 220, n=200),\n",
        "    square=True\n",
        ")\n",
        "ax.set_xticklabels(\n",
        "    ax.get_xticklabels(),\n",
        "    rotation=45,\n",
        "    horizontalalignment='right'\n",
        ");"
      ],
      "execution_count": null,
      "outputs": [
        {
          "output_type": "display_data",
          "data": {
            "image/png": "[encoded data removed]",
            "text/plain": [
              "<Figure size 432x288 with 2 Axes>"
            ]
          },
          "metadata": {
            "needs_background": "light"
          }
        }
      ]
    },
    {
      "cell_type": "code",
      "metadata": {
        "colab": {
          "base_uri": "https://localhost:8080/"
        },
        "id": "M8VpefvYP7Vq",
        "outputId": "94e7224a-8d8f-4c0f-deb4-f35bab3e9ee7"
      },
      "source": [
        " learning_rates = [0.2, 0.15, 0.1, 0.07, 0.05, 0.01, 0.005, 0.002]\n",
        "num_iterations = [1e3, 1e4, 1e5, 1e6]\n",
        "accuracies = []\n",
        "\n",
        "for rate in learning_rates:\n",
        "  for iteration in num_iterations:\n",
        "    model = LogisticRegression(verbose=True, max_iters=iteration, learning_rate=rate)\n",
        "    my_model = model.fit(df_train[features].to_numpy(), df_train.iloc[: , -1].to_numpy()) # train model on training data with current rate\n",
        "    predictions = my_model.predict(df_val[features].to_numpy())\n",
        "\n",
        "    binary_predictions = np.where((predictions > 0.5), 1, 0)\n",
        "    val_accuracy = np.mean(binary_predictions == df_val.iloc[: , -1].to_numpy())\n",
        "    print(\"Accuracy calculated: {} (rate= {}, number of iterations={})\".format(val_accuracy, rate, iteration))\n",
        "    accuracies.append((rate, (iteration, val_accuracy)))\n"
      ],
      "execution_count": null,
      "outputs": [
        {
          "output_type": "stream",
          "name": "stdout",
          "text": [
            "terminated after 1000 iterations, with norm of the gradient equal to 66.6805284511018\n",
            "the weight found: [ 36.46398181  10.07676424 -20.4878257   -6.87946215   6.06139093\n",
            "  -4.31792287   0.97391345   4.49731145  -7.34092439]\n",
            "Accuracy calculated: 0.53 (rate= 0.2, number of iterations=1000.0)\n",
            "terminated after 10000 iterations, with norm of the gradient equal to 67.29620775419907\n",
            "the weight found: [110.41721745  10.95758835 -18.79458702  -3.88514566   5.72185703\n",
            "  -3.73587867  12.99634051  -7.54812889 -71.37104246]\n",
            "Accuracy calculated: 0.52 (rate= 0.2, number of iterations=10000.0)\n",
            "terminated after 100000 iterations, with norm of the gradient equal to 67.57622906058326\n",
            "the weight found: [ 111.3425821    13.36665466  -17.25009905   -3.15954166    5.66962201\n",
            "    4.5213068   108.9876328    -6.41386607 -647.04934579]\n",
            "Accuracy calculated: 0.52 (rate= 0.2, number of iterations=100000.0)\n",
            "terminated after 1000000 iterations, with norm of the gradient equal to 58.430547110136374\n",
            "the weight found: [ 1.06761955e+02  2.64462306e+01 -8.20377810e+00 -2.35857760e+00\n",
            "  5.25022577e+00  2.95696624e+01  4.82314250e+02  3.27017830e+00\n",
            " -4.01351592e+03]\n",
            "Accuracy calculated: 0.63 (rate= 0.2, number of iterations=1000000.0)\n",
            "terminated after 1000 iterations, with norm of the gradient equal to 65.25583712233892\n",
            "the weight found: [ 27.47129049  10.74504442 -13.06642129  -4.60196889   5.18479422\n",
            "  -2.30485975   0.7477253    4.34641252  -5.47084149]\n",
            "Accuracy calculated: 0.39 (rate= 0.15, number of iterations=1000.0)\n",
            "terminated after 10000 iterations, with norm of the gradient equal to 65.10881528420919\n",
            "the weight found: [ 82.88065729  10.01247163 -12.75286934  -2.58939823   4.7296092\n",
            "  -2.27950792   9.78111412  -5.10428674 -53.49609682]\n",
            "Accuracy calculated: 0.43 (rate= 0.15, number of iterations=10000.0)\n",
            "terminated after 100000 iterations, with norm of the gradient equal to 67.26579578023093\n",
            "the weight found: [  83.40892116   10.13681359  -12.864094     -2.19444487    4.21159171\n",
            "    3.49511763   82.83973736   -5.12378662 -485.78796662]\n",
            "Accuracy calculated: 0.52 (rate= 0.15, number of iterations=100000.0)\n",
            "terminated after 1000000 iterations, with norm of the gradient equal to 59.85845883219681\n",
            "the weight found: [ 8.01108768e+01  1.99443617e+01 -6.07221151e+00 -1.74337028e+00\n",
            "  3.98024987e+00  2.22131854e+01  3.61647732e+02  2.48003389e+00\n",
            " -3.01027140e+03]\n",
            "Accuracy calculated: 0.63 (rate= 0.15, number of iterations=1000000.0)\n",
            "terminated after 1000 iterations, with norm of the gradient equal to 65.25583712233892\n",
            "the weight found: [18.22020577  7.17026831 -8.72678713 -3.02687697  3.45385156 -1.62024275\n",
            "  0.49025351  2.96603367 -3.65746497]\n",
            "Accuracy calculated: 0.39 (rate= 0.1, number of iterations=1000.0)\n",
            "terminated after 10000 iterations, with norm of the gradient equal to 65.08172486679446\n",
            "the weight found: [ 55.26001673   6.67225162  -8.49252255  -1.74463854   3.14961477\n",
            "  -1.52676375   6.47562317  -3.39355548 -35.68205366]\n",
            "Accuracy calculated: 0.43 (rate= 0.1, number of iterations=10000.0)\n",
            "terminated after 100000 iterations, with norm of the gradient equal to 67.21373295988212\n",
            "the weight found: [  55.80593107    6.8584975    -8.47072289   -1.67467507    2.79258163\n",
            "    2.38460908   55.2282653    -3.58139464 -323.94214352]\n",
            "Accuracy calculated: 0.53 (rate= 0.1, number of iterations=100000.0)\n",
            "terminated after 1000000 iterations, with norm of the gradient equal to 58.88639127135805\n",
            "the weight found: [ 5.33914629e+01  1.32311453e+01 -4.00154813e+00 -1.13912235e+00\n",
            "  2.59848789e+00  1.48004812e+01  2.40976463e+02  1.65320039e+00\n",
            " -2.00674128e+03]\n",
            "Accuracy calculated: 0.63 (rate= 0.1, number of iterations=1000000.0)\n",
            "terminated after 1000 iterations, with norm of the gradient equal to 41.398648506485294\n",
            "the weight found: [12.51099418  1.87636946 -7.81718641 -2.81588906 -0.17006949 -1.62041722\n",
            "  0.36033602  1.18407328 -2.51934323]\n",
            "Accuracy calculated: 0.61 (rate= 0.07, number of iterations=1000.0)\n",
            "terminated after 10000 iterations, with norm of the gradient equal to 50.81894649135351\n",
            "the weight found: [ 38.51247358   1.56375409  -7.68252959  -1.76529771  -0.34782326\n",
            "  -1.82794735   4.55050861  -3.18520679 -24.9317971 ]\n",
            "Accuracy calculated: 0.62 (rate= 0.07, number of iterations=10000.0)\n",
            "terminated after 100000 iterations, with norm of the gradient equal to 64.98285570590416\n",
            "the weight found: [  39.05799883    1.70008197   -7.59914686   -1.63647524   -0.59777482\n",
            "    0.86268433   38.72898473   -3.39402441 -226.74741104]\n",
            "Accuracy calculated: 0.63 (rate= 0.07, number of iterations=100000.0)\n",
            "terminated after 1000000 iterations, with norm of the gradient equal to 58.85127070251861\n",
            "the weight found: [ 3.72601162e+01  6.43343682e+00 -4.31407529e+00 -1.26956000e+00\n",
            " -4.96871941e-01  9.64214151e+00  1.68612984e+02  3.89326221e-01\n",
            " -1.40462741e+03]\n",
            "Accuracy calculated: 0.74 (rate= 0.07, number of iterations=1000000.0)\n",
            "terminated after 1000 iterations, with norm of the gradient equal to 65.25583712233892\n",
            "the weight found: [ 8.82896198  3.56544273 -4.35997134 -1.6344833   1.69792941 -0.48935102\n",
            "  0.27793751  1.4169813  -1.76140802]\n",
            "Accuracy calculated: 0.4 (rate= 0.05, number of iterations=1000.0)\n",
            "terminated after 10000 iterations, with norm of the gradient equal to 64.89825741746496\n",
            "the weight found: [ 27.55703443   3.33777305  -4.24755981  -0.89372995   1.56934172\n",
            "  -0.75505517   3.26819025  -1.66387583 -17.77050414]\n",
            "Accuracy calculated: 0.43 (rate= 0.05, number of iterations=10000.0)\n",
            "terminated after 100000 iterations, with norm of the gradient equal to 66.61733511754035\n",
            "the weight found: [  28.27059126    3.59781458   -4.07560563   -0.80664491    1.37543731\n",
            "    0.98015244   27.36472338   -2.32311907 -160.62170776]\n",
            "Accuracy calculated: 0.52 (rate= 0.05, number of iterations=100000.0)\n",
            "terminated after 1000000 iterations, with norm of the gradient equal to 58.663851688961785\n",
            "the weight found: [ 2.66549524e+01  6.62151057e+00 -2.03247040e+00 -5.64421419e-01\n",
            "  1.30482357e+00  7.37706536e+00  1.20200006e+02  8.17261054e-01\n",
            " -1.00274121e+03]\n",
            "Accuracy calculated: 0.63 (rate= 0.05, number of iterations=1000000.0)\n",
            "terminated after 1000 iterations, with norm of the gradient equal to 65.25557042048717\n",
            "the weight found: [ 1.64171554  0.71112808 -0.86828129 -0.31555195  0.33379152 -0.03069851\n",
            "  0.06069334  0.26352199 -0.33519115]\n",
            "Accuracy calculated: 0.39 (rate= 0.01, number of iterations=1000.0)\n",
            "terminated after 10000 iterations, with norm of the gradient equal to 64.82324043735055\n",
            "the weight found: [ 5.530682    0.67018851 -0.85658175 -0.17978721  0.315685   -0.15174257\n",
            "  0.6530109  -0.31705837 -3.54091602]\n",
            "Accuracy calculated: 0.43 (rate= 0.01, number of iterations=10000.0)\n",
            "terminated after 100000 iterations, with norm of the gradient equal to 66.311520264771\n",
            "the weight found: [  5.50364374   0.71151898  -0.82586165  -0.15848663   0.28304854\n",
            "   0.25401688   5.43058014  -0.35907386 -32.279217  ]\n",
            "Accuracy calculated: 0.5 (rate= 0.01, number of iterations=100000.0)\n",
            "terminated after 1000000 iterations, with norm of the gradient equal to 58.8987749355909\n",
            "the weight found: [ 5.36786274e+00  1.32163300e+00 -4.14875749e-01 -1.08694065e-01\n",
            "  2.57959959e-01  1.49722999e+00  2.35943916e+01  1.83642631e-01\n",
            " -2.00823573e+02]\n",
            "Accuracy calculated: 0.63 (rate= 0.01, number of iterations=1000000.0)\n",
            "terminated after 1000 iterations, with norm of the gradient equal to 65.24812620158606\n",
            "the weight found: [ 0.92715432  0.35988235 -0.43466298 -0.13168534  0.16551736 -0.09233041\n",
            "  0.02468215  0.13278983 -0.18304533]\n",
            "Accuracy calculated: 0.4 (rate= 0.005, number of iterations=1000.0)\n",
            "terminated after 10000 iterations, with norm of the gradient equal to 64.93261217819216\n",
            "the weight found: [ 2.78662985  0.33442129 -0.43282106 -0.08912747  0.15693146 -0.06727745\n",
            "  0.32157085 -0.16392719 -1.78282201]\n",
            "Accuracy calculated: 0.42 (rate= 0.005, number of iterations=10000.0)\n",
            "terminated after 100000 iterations, with norm of the gradient equal to 66.76560547704217\n",
            "the weight found: [  2.82131359   0.3546556   -0.41677004  -0.08280549   0.14116536\n",
            "   0.11539321   2.66764091  -0.20318185 -16.14361463]\n",
            "Accuracy calculated: 0.52 (rate= 0.005, number of iterations=100000.0)\n",
            "terminated after 1000000 iterations, with norm of the gradient equal to 58.67272612312401\n",
            "the weight found: [ 2.67021120e+00  6.55252228e-01 -2.06114441e-01 -5.81284133e-02\n",
            "  1.28683599e-01  7.62450473e-01  1.17296315e+01  9.91357927e-02\n",
            " -1.00463189e+02]\n",
            "Accuracy calculated: 0.63 (rate= 0.005, number of iterations=1000000.0)\n",
            "terminated after 1000 iterations, with norm of the gradient equal to 65.16999408890455\n",
            "the weight found: [ 0.37106941  0.1383994  -0.17475316 -0.0433481   0.06277139 -0.03291336\n",
            "  0.01000228  0.04853852 -0.07297972]\n",
            "Accuracy calculated: 0.41 (rate= 0.002, number of iterations=1000.0)\n",
            "terminated after 10000 iterations, with norm of the gradient equal to 65.87437230518556\n",
            "the weight found: [ 1.10173609  0.12436227 -0.18003619 -0.03540496  0.05765059 -0.00974959\n",
            "  0.11997162 -0.0712925  -0.70531535]\n",
            "Accuracy calculated: 0.48 (rate= 0.002, number of iterations=10000.0)\n",
            "terminated after 100000 iterations, with norm of the gradient equal to 66.40115700696207\n",
            "the weight found: [ 1.18689104  0.14537287 -0.17087502 -0.04066871  0.06244062  0.0336425\n",
            "  1.06576802 -0.07810965 -6.50965016]\n",
            "Accuracy calculated: 0.51 (rate= 0.002, number of iterations=100000.0)\n",
            "terminated after 1000000 iterations, with norm of the gradient equal to 57.639832468545016\n",
            "the weight found: [ 1.04850422e+00  2.54674993e-01 -7.98565076e-02 -2.87118401e-02\n",
            "  5.14672817e-02  3.20682686e-01  4.66941524e+00  4.35855919e-02\n",
            " -4.01096719e+01]\n",
            "Accuracy calculated: 0.63 (rate= 0.002, number of iterations=1000000.0)\n"
          ]
        }
      ]
    },
    {
      "cell_type": "code",
      "metadata": {
        "colab": {
          "base_uri": "https://localhost:8080/",
          "height": 279
        },
        "id": "RluXZj_UP7Vq",
        "outputId": "17ceed76-59b2-4f98-b9f3-f7a6a04942ca"
      },
      "source": [
        "values = {}\n",
        "for (key, value) in accuracies:\n",
        "  values.setdefault(key ,[]).append(value)\n",
        "\n",
        "# plotting accuracy for given learning rate\n",
        "for key, item in values.items():\n",
        "  plt.plot(*zip(*item), label=key)\n",
        "\n",
        "plt.legend()\n",
        "plt.xlabel(\"number of iterations\")\n",
        "plt.ylabel(\"accuracy on the validation data\")\n",
        "plt.show()"
      ],
      "execution_count": null,
      "outputs": [
        {
          "output_type": "display_data",
          "data": {
            "image/png": "[encoded data removed]",
            "text/plain": [
              "<Figure size 432x288 with 1 Axes>"
            ]
          },
          "metadata": {
            "needs_background": "light"
          }
        }
      ]
    },
    {
      "cell_type": "code",
      "metadata": {
        "colab": {
          "base_uri": "https://localhost:8080/"
        },
        "id": "Y46a3WhjP7Vr",
        "outputId": "a62e55e0-ae2a-4745-801b-d54ab778de9a"
      },
      "source": [
        "# select learnings rates that give above 70% accuracy on the validation data, test with testing data\n",
        "\n",
        "candidates = []\n",
        "\n",
        "for item in accuracies:\n",
        "  if item[1][1] > 0.70:\n",
        "    candidates.append(item)\n",
        "\n",
        "candidate_accuracies = []\n",
        "\n",
        "for rate, values in candidates:\n",
        "  model = LogisticRegression(verbose=False, max_iters=values[0], learning_rate=rate)\n",
        "  my_model = model.fit(df_train[features].to_numpy(), df_train.iloc[: , -1].to_numpy()) # train model on training data with current rate\n",
        "  predictions = my_model.predict(df_test[features].to_numpy())\n",
        "\n",
        "  binary_predictions = np.where((predictions > 0.5), 1, 0)\n",
        "  val_accuracy = np.mean(binary_predictions == df_test.iloc[: , -1].to_numpy())\n",
        "  candidate_accuracies.append((rate, (values[0], val_accuracy)))\n",
        "  print(\"Accuracy calculated: {} (rate= {}, number of iterations={})\".format(val_accuracy, rate, values[0]))\n"
      ],
      "execution_count": null,
      "outputs": [
        {
          "output_type": "stream",
          "name": "stdout",
          "text": [
            "Accuracy calculated: 0.7058823529411765 (rate= 0.07, number of iterations=1000000.0)\n"
          ]
        }
      ]
    },
    {
      "cell_type": "code",
      "metadata": {
        "colab": {
          "base_uri": "https://localhost:8080/",
          "height": 363
        },
        "id": "CCg1Wm_sP7Vr",
        "outputId": "df8f396c-5f98-4415-a65d-51ffc062932d"
      },
      "source": [
        "#print(candidate_accuracies)\n",
        "\n",
        "model = LogisticRegression(verbose=True, max_iters=1e6, learning_rate=0.07)\n",
        "my_model = model.fit(df_train[features].to_numpy(), df_train.iloc[: , -1].to_numpy()) # train model on training data with current rate\n",
        "predictions = my_model.predict(df_test[features].to_numpy())\n",
        "\n",
        "binary_predictions = np.where((predictions > 0.5), 1, 0)\n",
        "val_accuracy = np.mean(binary_predictions == df_test.iloc[: , -1].to_numpy())\n",
        "\n",
        "# plot confusion matrix\n",
        "cm = confusion_matrix(df_test.iloc[: , -1].to_numpy(), binary_predictions, normalize='all')\n",
        "cmd = ConfusionMatrixDisplay(cm, display_labels=[])\n",
        "cmd.plot()\n"
      ],
      "execution_count": null,
      "outputs": [
        {
          "output_type": "stream",
          "name": "stdout",
          "text": [
            "terminated after 1000000 iterations, with norm of the gradient equal to 58.85127070251861\n",
            "the weight found: [ 3.72601162e+01  6.43343682e+00 -4.31407529e+00 -1.26956000e+00\n",
            " -4.96871941e-01  9.64214151e+00  1.68612984e+02  3.89326221e-01\n",
            " -1.40462741e+03]\n"
          ]
        },
        {
          "output_type": "execute_result",
          "data": {
            "text/plain": [
              "<sklearn.metrics._plot.confusion_matrix.ConfusionMatrixDisplay at 0x7f9f054a8790>"
            ]
          },
          "metadata": {},
          "execution_count": 18
        },
        {
          "output_type": "display_data",
          "data": {
            "image/png": "[encoded data removed]",
            "text/plain": [
              "<Figure size 432x288 with 2 Axes>"
            ]
          },
          "metadata": {
            "needs_background": "light"
          }
        }
      ]
    },
    {
      "cell_type": "code",
      "metadata": {
        "colab": {
          "base_uri": "https://localhost:8080/"
        },
        "id": "WQO4DxM2P7Vr",
        "outputId": "7725e1e8-547d-4aca-f61d-e7b76308436e"
      },
      "source": [
        "# cross validation\n",
        "\n",
        "df_train_val = pd.concat([df_train, df_val], axis=0) # merge validation & training datasets for cross validation\n",
        "\n",
        "train_x = df_train_val[features].to_numpy()\n",
        "train_label = df_train_val.iloc[: , -1].to_numpy()\n",
        "\n",
        "\n",
        "def cross_validate(train_x, train_label, rates):\n",
        "  current_best_rate = -1\n",
        "  current_best_accuracy = 0\n",
        "  accuracies = []\n",
        "\n",
        "  # make divisible by 5\n",
        "  v = train_x.shape[0] % 5\n",
        "  if (v != 0):\n",
        "    train_x = train_x[v::]\n",
        "    train_label = train_label[v::]\n",
        "  print(rates)\n",
        "  for rate in rates:\n",
        "    # divide dataset into 5 parts\n",
        "    train_x_splits = np.split(train_x, 5)\n",
        "    train_label_splits = np.split(train_label, 5)\n",
        "\n",
        "    for x in range(5):\n",
        "      validation_set_X = train_x_splits[x]\n",
        "      validation_set_Y = train_label_splits[x]\n",
        "\n",
        "      training_sets_X = np.concatenate(train_x_splits[:x] +\n",
        "                                      train_x_splits[x+1:], axis=0)\n",
        "      training_sets_Y = np.concatenate(train_label_splits[:x] +\n",
        "                                      train_label_splits[x+1:], axis=0)\n",
        "\n",
        "      # train\n",
        "      model = LogisticRegression(verbose=True, max_iters=1e6, learning_rate=rate)\n",
        "      print(rate)\n",
        "      my_model = model.fit(training_sets_X, training_sets_Y) # train model on training data with current rate\n",
        "      \n",
        "      # get results and accuracies\n",
        "      predictions = my_model.predict(validation_set_X)\n",
        "      binary_predictions = np.where((predictions > 0.5), 1, 0)\n",
        "      current_accuracy = np.mean(binary_predictions == validation_set_Y)\n",
        "      accuracies.append(current_accuracy)\n",
        "      \n",
        "    average = np.mean(accuracies)\n",
        "    if average > current_best_accuracy:\n",
        "      current_best_rate = rate\n",
        "      current_best_accuracy = average\n",
        "  return (current_best_rate, current_best_accuracy)\n",
        "\n",
        "\n",
        "result = cross_validate(train_x, train_label, rates = [0.1, 0.07, 0.05, 0.01, 0.002])\n",
        "print('Model with learning rate = {} give us the best accuracy ({}%)'.format(result[0], result[1]))"
      ],
      "execution_count": null,
      "outputs": [
        {
          "output_type": "stream",
          "name": "stdout",
          "text": [
            "[0.1, 0.07, 0.05, 0.01, 0.002]\n",
            "0.1\n",
            "terminated after 1000000 iterations, with norm of the gradient equal to 58.474711991779024\n",
            "the weight found: [ 5.12037392e+01  9.26610787e+00 -5.43441045e+00 -9.48530562e-01\n",
            " -2.09907458e+00  1.24545988e+01  2.87966821e+02 -1.05722047e+00\n",
            " -1.96107232e+03]\n",
            "0.1\n",
            "terminated after 1000000 iterations, with norm of the gradient equal to 59.284290799946305\n",
            "the weight found: [ 3.86770420e+01  1.12079360e+01 -3.57080385e+00  4.02023543e-01\n",
            "  9.67164204e-01  1.76909887e+01  2.88500443e+02  4.27685511e+00\n",
            " -1.90508533e+03]\n",
            "0.1\n",
            "terminated after 1000000 iterations, with norm of the gradient equal to 61.413043488896115\n",
            "the weight found: [ 4.83653935e+01  8.21310800e+00 -6.85664341e+00 -1.48065266e+00\n",
            " -1.50557599e+00  1.70829785e+01  3.49671849e+02  5.99374781e+00\n",
            " -2.13744245e+03]\n",
            "0.1\n",
            "terminated after 1000000 iterations, with norm of the gradient equal to 57.2699611098561\n",
            "the weight found: [ 4.48746289e+01  9.43474822e+00 -6.21213860e+00 -2.74321785e+00\n",
            " -1.74288712e+00  1.44985797e+01  2.65419671e+02  1.78943410e+00\n",
            " -1.97958011e+03]\n",
            "0.1\n",
            "terminated after 1000000 iterations, with norm of the gradient equal to 60.63514300951306\n",
            "the weight found: [ 6.01409918e+01  1.32332297e+01 -4.85374081e+00 -1.80211003e-01\n",
            "  2.65441999e+00  1.47394560e+01  2.31860750e+02  8.90137165e-01\n",
            " -1.96652769e+03]\n",
            "0.07\n",
            "terminated after 1000000 iterations, with norm of the gradient equal to 58.22090819053053\n",
            "the weight found: [ 3.58060962e+01  6.48463033e+00 -3.77382989e+00 -6.73696502e-01\n",
            " -1.46025655e+00  8.71261722e+00  2.01460468e+02 -7.30269411e-01\n",
            " -1.37269961e+03]\n",
            "0.07\n",
            "terminated after 1000000 iterations, with norm of the gradient equal to 59.16633500762042\n",
            "the weight found: [ 2.70797787e+01  7.83654902e+00 -2.48823828e+00  2.53081825e-01\n",
            "  6.82260875e-01  1.23770897e+01  2.02210531e+02  2.97359468e+00\n",
            " -1.33296283e+03]\n",
            "0.07\n",
            "terminated after 1000000 iterations, with norm of the gradient equal to 61.41073387170691\n",
            "the weight found: [ 3.39626136e+01  8.63767834e+00 -3.23171568e+00 -5.32237815e-01\n",
            "  1.46439205e+00  1.26858410e+01  2.44608473e+02  4.93394332e+00\n",
            " -1.49653838e+03]\n",
            "0.07\n",
            "terminated after 1000000 iterations, with norm of the gradient equal to 57.1456169159682\n",
            "the weight found: [ 3.14951385e+01  9.31224450e+00 -2.86041121e+00 -1.43599705e+00\n",
            "  1.05531389e+00  1.08625716e+01  1.85789443e+02  1.99402483e+00\n",
            " -1.38577049e+03]\n",
            "0.07\n",
            "terminated after 1000000 iterations, with norm of the gradient equal to 60.58860877644613\n",
            "the weight found: [ 4.20831751e+01  9.27262249e+00 -3.40823079e+00 -1.10431042e-01\n",
            "  1.86832624e+00  1.03007280e+01  1.62401951e+02  6.31490864e-01\n",
            " -1.37668151e+03]\n",
            "0.05\n",
            "terminated after 1000000 iterations, with norm of the gradient equal to 58.23859630273329\n",
            "the weight found: [ 2.56305752e+01  6.58839822e+00 -1.68044432e+00 -1.66313901e-01\n",
            "  6.80364348e-01  6.72839081e+00  1.44005393e+02  2.12370284e-02\n",
            " -9.80590519e+02]\n",
            "0.05\n",
            "terminated after 1000000 iterations, with norm of the gradient equal to 59.17068036211002\n",
            "the weight found: [ 1.93721985e+01  5.58986055e+00 -1.76598322e+00  1.51885791e-01\n",
            "  4.93742846e-01  8.85985565e+00  1.44527614e+02  2.12836427e+00\n",
            " -9.52800479e+02]\n",
            "0.05\n",
            "terminated after 1000000 iterations, with norm of the gradient equal to 61.4124114539875\n",
            "the weight found: [ 2.41797849e+01  4.10427861e+00 -3.39700826e+00 -7.25449411e-01\n",
            " -7.58809023e-01  8.52768827e+00  1.74523662e+02  2.96465925e+00\n",
            " -1.06896982e+03]\n",
            "0.05\n",
            "terminated after 1000000 iterations, with norm of the gradient equal to 57.12815898736273\n",
            "the weight found: [ 2.24279233e+01  4.72084117e+00 -3.10818098e+00 -1.36946217e+00\n",
            " -8.70768488e-01  7.28666544e+00  1.32703250e+02  8.58270339e-01\n",
            " -9.89893672e+02]\n",
            "0.05\n",
            "terminated after 1000000 iterations, with norm of the gradient equal to 60.427191633428315\n",
            "the weight found: [ 3.00424886e+01  6.64454379e+00 -2.45735855e+00 -7.10322603e-02\n",
            "  1.33842355e+00  7.30947680e+00  1.16090736e+02  4.54719076e-01\n",
            " -9.83391558e+02]\n",
            "0.01\n",
            "terminated after 1000000 iterations, with norm of the gradient equal to 58.39735861113834\n",
            "the weight found: [ 5.11504523e+00  1.31395587e+00 -3.45068423e-01 -5.02085812e-02\n",
            "  1.34009910e-01  1.37540189e+00  2.95752018e+01  9.57144046e-03\n",
            " -1.96253841e+02]\n",
            "0.01\n",
            "terminated after 1000000 iterations, with norm of the gradient equal to 59.37956574125755\n",
            "the weight found: [ 3.92084322e+00  7.15296893e-01 -5.60614427e-01 -5.58811385e-02\n",
            " -2.43226488e-01  1.67683461e+00  2.85704333e+01  2.94963690e-01\n",
            " -1.90843139e+02]\n",
            "0.01\n",
            "terminated after 1000000 iterations, with norm of the gradient equal to 61.36440132129484\n",
            "the weight found: [ 4.83187576e+00  8.19027939e-01 -6.59841131e-01 -1.62309991e-01\n",
            " -1.51674699e-01  1.72257810e+00  3.44561604e+01  5.73270983e-01\n",
            " -2.14001178e+02]\n",
            "0.01\n",
            "terminated after 1000000 iterations, with norm of the gradient equal to 57.00076304045799\n",
            "the weight found: [ 4.40053773e+00  9.54718859e-01 -6.15235382e-01 -2.67059805e-01\n",
            " -1.74479666e-01  1.48034589e+00  2.61708208e+01  1.21540713e-01\n",
            " -1.98271377e+02]\n",
            "0.01\n",
            "terminated after 1000000 iterations, with norm of the gradient equal to 59.89216133239979\n",
            "the weight found: [ 5.96449562e+00  1.31988634e+00 -4.82754252e-01 -1.39453211e-02\n",
            "  2.63092812e-01  1.47844692e+00  2.36121864e+01  9.44233374e-02\n",
            " -1.96781429e+02]\n",
            "0.002\n",
            "terminated after 1000000 iterations, with norm of the gradient equal to 57.80780147359496\n",
            "the weight found: [ 9.93928201e-01  1.80438862e-01 -1.10010645e-01 -3.07104301e-02\n",
            " -4.07698067e-02  2.69815128e-01  6.33355548e+00 -1.38309671e-02\n",
            " -3.93739423e+01]\n",
            "0.002\n",
            "terminated after 1000000 iterations, with norm of the gradient equal to 58.77935142302435\n",
            "the weight found: [ 8.05119297e-01  1.47312928e-01 -1.13134706e-01 -7.00374988e-03\n",
            " -4.50889071e-02  3.38048678e-01  5.57077824e+00  5.39013414e-02\n",
            " -3.87214906e+01]\n",
            "0.002\n",
            "terminated after 1000000 iterations, with norm of the gradient equal to 60.33109486463898\n",
            "the weight found: [ 9.28405263e-01  2.45630970e-01 -8.79379420e-02 -1.43378581e-02\n",
            "  4.28298420e-02  3.84306069e-01  6.51465518e+00  1.20732354e-01\n",
            " -4.28378049e+01]\n",
            "0.002\n",
            "terminated after 1000000 iterations, with norm of the gradient equal to 56.04573222717319\n",
            "the weight found: [ 8.69916170e-01  1.94032364e-01 -1.26315221e-01 -4.95187776e-02\n",
            " -3.25158381e-02  2.95761961e-01  4.91680112e+00  2.47773462e-02\n",
            " -3.96279436e+01]\n",
            "0.002\n",
            "terminated after 1000000 iterations, with norm of the gradient equal to 58.886639954162206\n",
            "the weight found: [ 1.17107638e+00  2.52674586e-01 -9.48820713e-02 -1.23521620e-02\n",
            "  5.23431791e-02  3.36970348e-01  4.61172365e+00  2.40391873e-02\n",
            " -3.94660640e+01]\n",
            "Model with learning rate = 0.1 give us the best accuracy (0.6799999999999999%)\n"
          ]
        }
      ]
    },
    {
      "cell_type": "code",
      "metadata": {
        "colab": {
          "base_uri": "https://localhost:8080/",
          "height": 363
        },
        "id": "JM3Z9-mVP7Vr",
        "outputId": "8c9a6107-2291-49ec-bb2e-9a52ca28de31"
      },
      "source": [
        "# from cross-validation, rate = 0.1 and max_iters = 1e6 performs best\n",
        "# run model with those params on training dataset\n",
        "\n",
        "model = LogisticRegression(verbose=True, max_iters=1e6, learning_rate=0.1)\n",
        "my_model = model.fit(df_train[features].to_numpy(), df_train.iloc[: , -1].to_numpy()) # train model on training data with current rate\n",
        "predictions = my_model.predict(df_train[features].to_numpy())\n",
        "\n",
        "binary_predictions = np.where((predictions > 0.5), 1, 0)\n",
        "train_accuracy = np.mean(binary_predictions == df_train.iloc[: , -1].to_numpy())\n",
        "\n",
        "# plot confusion matrix\n",
        "cm = confusion_matrix(df_train.iloc[: , -1].to_numpy(), binary_predictions, normalize='all')\n",
        "cmd = ConfusionMatrixDisplay(cm, display_labels=[])\n",
        "cmd.plot()\n",
        "\n",
        "print(\"Accuracy: {}%\".format(train_accuracy * 100))"
      ],
      "execution_count": null,
      "outputs": [
        {
          "output_type": "stream",
          "name": "stdout",
          "text": [
            "terminated after 1000000 iterations, with norm of the gradient equal to 58.88639127135805\n",
            "the weight found: [ 5.33914629e+01  1.32311453e+01 -4.00154813e+00 -1.13912235e+00\n",
            "  2.59848789e+00  1.48004812e+01  2.40976463e+02  1.65320039e+00\n",
            " -2.00674128e+03]\n",
            "Accuracy: 63.5%\n"
          ]
        },
        {
          "output_type": "display_data",
          "data": {
            "image/png": "[encoded data removed]",
            "text/plain": [
              "<Figure size 432x288 with 2 Axes>"
            ]
          },
          "metadata": {
            "needs_background": "light"
          }
        }
      ]
    },
    {
      "cell_type": "code",
      "metadata": {
        "colab": {
          "base_uri": "https://localhost:8080/",
          "height": 363
        },
        "id": "X0x_uxEjP7Vr",
        "outputId": "249d1f3f-ba74-4d54-ffef-82d6a13e5b58"
      },
      "source": [
        "# from cross-validation, rate = 0.1 and max_iters = 1e6 performs best\n",
        "# run model with those params on validation dataset\n",
        "\n",
        "model = LogisticRegression(verbose=True, max_iters=1e6, learning_rate=0.1)\n",
        "my_model = model.fit(df_train[features].to_numpy(), df_train.iloc[: , -1].to_numpy()) # train model on training data with current rate\n",
        "predictions = my_model.predict(df_val[features].to_numpy())\n",
        "\n",
        "binary_predictions = np.where((predictions > 0.5), 1, 0)\n",
        "test_accuracy = np.mean(binary_predictions == df_val.iloc[: , -1].to_numpy())\n",
        "\n",
        "# plot confusion matrix\n",
        "cm = confusion_matrix(df_val.iloc[: , -1].to_numpy(), binary_predictions, normalize='all')\n",
        "cmd = ConfusionMatrixDisplay(cm, display_labels=[])\n",
        "cmd.plot()\n",
        "\n",
        "print(\"Accuracy: {}%\".format(test_accuracy * 100))"
      ],
      "execution_count": null,
      "outputs": [
        {
          "output_type": "stream",
          "name": "stdout",
          "text": [
            "terminated after 1000000 iterations, with norm of the gradient equal to 58.88639127135805\n",
            "the weight found: [ 5.33914629e+01  1.32311453e+01 -4.00154813e+00 -1.13912235e+00\n",
            "  2.59848789e+00  1.48004812e+01  2.40976463e+02  1.65320039e+00\n",
            " -2.00674128e+03]\n",
            "Accuracy: 63.0%\n"
          ]
        },
        {
          "output_type": "display_data",
          "data": {
            "image/png": "[encoded data removed]",
            "text/plain": [
              "<Figure size 432x288 with 2 Axes>"
            ]
          },
          "metadata": {
            "needs_background": "light"
          }
        }
      ]
    },
    {
      "cell_type": "code",
      "metadata": {
        "colab": {
          "base_uri": "https://localhost:8080/",
          "height": 363
        },
        "id": "jTk4Ig3kP7Vs",
        "outputId": "ca5f5b0f-9ba2-411b-e4cd-26575229d061"
      },
      "source": [
        "# from cross-validation, rate = 0.1 and max_iters = 1e6 performs best\n",
        "# run model with those params on test dataset\n",
        "\n",
        "model = LogisticRegression(verbose=True, max_iters=1e6, learning_rate=0.07)\n",
        "my_model = model.fit(df_train[features].to_numpy(), df_train.iloc[: , -1].to_numpy()) # train model on training data with current rate\n",
        "predictions = my_model.predict(df_test[features].to_numpy())\n",
        "\n",
        "binary_predictions = np.where((predictions > 0.5), 1, 0)\n",
        "test_accuracy = np.mean(binary_predictions == df_test.iloc[: , -1].to_numpy())\n",
        "\n",
        "# plot confusion matrix\n",
        "cm = confusion_matrix(df_test.iloc[: , -1].to_numpy(), binary_predictions, normalize='all')\n",
        "cmd = ConfusionMatrixDisplay(cm, display_labels=[])\n",
        "cmd.plot()\n",
        "\n",
        "print(\"Accuracy: {}%\".format(test_accuracy * 100))"
      ],
      "execution_count": null,
      "outputs": [
        {
          "output_type": "stream",
          "name": "stdout",
          "text": [
            "terminated after 1000000 iterations, with norm of the gradient equal to 58.85127070251861\n",
            "the weight found: [ 3.72601162e+01  6.43343682e+00 -4.31407529e+00 -1.26956000e+00\n",
            " -4.96871941e-01  9.64214151e+00  1.68612984e+02  3.89326221e-01\n",
            " -1.40462741e+03]\n",
            "Accuracy: 70.58823529411765%\n"
          ]
        },
        {
          "output_type": "display_data",
          "data": {
            "image/png": "[encoded data removed]",
            "text/plain": [
              "<Figure size 432x288 with 2 Axes>"
            ]
          },
          "metadata": {
            "needs_background": "light"
          }
        }
      ]
    },
    {
      "cell_type": "markdown",
      "metadata": {
        "id": "OcW1h8A9QEJk"
      },
      "source": [
        "By including the 'insulin' feature, we notice that are overall results are not as good."
      ]
    },
    {
      "cell_type": "markdown",
      "metadata": {
        "id": "fAquz4xOa3Uh"
      },
      "source": [
        "# Part 1. Optimization"
      ]
    },
    {
      "cell_type": "markdown",
      "metadata": {
        "id": "QJQDDDw93PO3"
      },
      "source": [
        "## 1. Baseline implementation"
      ]
    },
    {
      "cell_type": "markdown",
      "metadata": {
        "id": "orsawEOebCXZ"
      },
      "source": [
        "Retrieving the diabeters dataset:"
      ]
    },
    {
      "cell_type": "code",
      "metadata": {
        "colab": {
          "base_uri": "https://localhost:8080/",
          "height": 443
        },
        "id": "MyR-i0kOW5Gz",
        "outputId": "7a79984a-b286-4ec5-c434-5fbee10ab282"
      },
      "source": [
        "from google.colab import drive\n",
        "drive.mount('/content/drive', force_remount=False)\n",
        "\n",
        "features = ['Pregnancies', 'Glucose', 'BloodPressure', 'SkinThickness', 'BMI', 'DiabetesPedigreeFunction', 'Age']\n",
        "\n",
        "df_train = pd.read_csv('/content/drive/MyDrive/MCGILL/COMP-551/data_A2/diabetes/diabetes_train.csv')\n",
        "df_test = pd.read_csv('/content/drive/MyDrive/MCGILL/COMP-551/data_A2/diabetes/diabetes_test.csv')\n",
        "df_val = pd.read_csv('/content/drive/MyDrive/MCGILL/COMP-551/data_A2/diabetes/diabetes_val.csv')\n",
        "\n",
        "df_train"
      ],
      "execution_count": null,
      "outputs": [
        {
          "output_type": "stream",
          "name": "stdout",
          "text": [
            "Mounted at /content/drive\n"
          ]
        },
        {
          "output_type": "execute_result",
          "data": {
            "text/html": [
              "<div>\n",
              "<style scoped>\n",
              "    .dataframe tbody tr th:only-of-type {\n",
              "        vertical-align: middle;\n",
              "    }\n",
              "\n",
              "    .dataframe tbody tr th {\n",
              "        vertical-align: top;\n",
              "    }\n",
              "\n",
              "    .dataframe thead th {\n",
              "        text-align: right;\n",
              "    }\n",
              "</style>\n",
              "<table border=\"1\" class=\"dataframe\">\n",
              "  <thead>\n",
              "    <tr style=\"text-align: right;\">\n",
              "      <th></th>\n",
              "      <th>Pregnancies</th>\n",
              "      <th>Glucose</th>\n",
              "      <th>BloodPressure</th>\n",
              "      <th>SkinThickness</th>\n",
              "      <th>Insulin</th>\n",
              "      <th>BMI</th>\n",
              "      <th>DiabetesPedigreeFunction</th>\n",
              "      <th>Age</th>\n",
              "      <th>Outcome</th>\n",
              "    </tr>\n",
              "  </thead>\n",
              "  <tbody>\n",
              "    <tr>\n",
              "      <th>0</th>\n",
              "      <td>5</td>\n",
              "      <td>144</td>\n",
              "      <td>82</td>\n",
              "      <td>26</td>\n",
              "      <td>285</td>\n",
              "      <td>32.0</td>\n",
              "      <td>0.452</td>\n",
              "      <td>58</td>\n",
              "      <td>1</td>\n",
              "    </tr>\n",
              "    <tr>\n",
              "      <th>1</th>\n",
              "      <td>0</td>\n",
              "      <td>128</td>\n",
              "      <td>68</td>\n",
              "      <td>19</td>\n",
              "      <td>180</td>\n",
              "      <td>30.5</td>\n",
              "      <td>1.391</td>\n",
              "      <td>25</td>\n",
              "      <td>1</td>\n",
              "    </tr>\n",
              "    <tr>\n",
              "      <th>2</th>\n",
              "      <td>9</td>\n",
              "      <td>156</td>\n",
              "      <td>86</td>\n",
              "      <td>28</td>\n",
              "      <td>155</td>\n",
              "      <td>34.3</td>\n",
              "      <td>1.189</td>\n",
              "      <td>42</td>\n",
              "      <td>1</td>\n",
              "    </tr>\n",
              "    <tr>\n",
              "      <th>3</th>\n",
              "      <td>1</td>\n",
              "      <td>144</td>\n",
              "      <td>82</td>\n",
              "      <td>46</td>\n",
              "      <td>180</td>\n",
              "      <td>46.1</td>\n",
              "      <td>0.335</td>\n",
              "      <td>46</td>\n",
              "      <td>1</td>\n",
              "    </tr>\n",
              "    <tr>\n",
              "      <th>4</th>\n",
              "      <td>0</td>\n",
              "      <td>179</td>\n",
              "      <td>90</td>\n",
              "      <td>27</td>\n",
              "      <td>0</td>\n",
              "      <td>44.1</td>\n",
              "      <td>0.686</td>\n",
              "      <td>23</td>\n",
              "      <td>1</td>\n",
              "    </tr>\n",
              "    <tr>\n",
              "      <th>...</th>\n",
              "      <td>...</td>\n",
              "      <td>...</td>\n",
              "      <td>...</td>\n",
              "      <td>...</td>\n",
              "      <td>...</td>\n",
              "      <td>...</td>\n",
              "      <td>...</td>\n",
              "      <td>...</td>\n",
              "      <td>...</td>\n",
              "    </tr>\n",
              "    <tr>\n",
              "      <th>595</th>\n",
              "      <td>4</td>\n",
              "      <td>158</td>\n",
              "      <td>78</td>\n",
              "      <td>0</td>\n",
              "      <td>0</td>\n",
              "      <td>32.9</td>\n",
              "      <td>0.803</td>\n",
              "      <td>31</td>\n",
              "      <td>1</td>\n",
              "    </tr>\n",
              "    <tr>\n",
              "      <th>596</th>\n",
              "      <td>12</td>\n",
              "      <td>84</td>\n",
              "      <td>72</td>\n",
              "      <td>31</td>\n",
              "      <td>0</td>\n",
              "      <td>29.7</td>\n",
              "      <td>0.297</td>\n",
              "      <td>46</td>\n",
              "      <td>1</td>\n",
              "    </tr>\n",
              "    <tr>\n",
              "      <th>597</th>\n",
              "      <td>2</td>\n",
              "      <td>158</td>\n",
              "      <td>90</td>\n",
              "      <td>0</td>\n",
              "      <td>0</td>\n",
              "      <td>31.6</td>\n",
              "      <td>0.805</td>\n",
              "      <td>66</td>\n",
              "      <td>1</td>\n",
              "    </tr>\n",
              "    <tr>\n",
              "      <th>598</th>\n",
              "      <td>2</td>\n",
              "      <td>83</td>\n",
              "      <td>66</td>\n",
              "      <td>23</td>\n",
              "      <td>50</td>\n",
              "      <td>32.2</td>\n",
              "      <td>0.497</td>\n",
              "      <td>22</td>\n",
              "      <td>0</td>\n",
              "    </tr>\n",
              "    <tr>\n",
              "      <th>599</th>\n",
              "      <td>5</td>\n",
              "      <td>187</td>\n",
              "      <td>76</td>\n",
              "      <td>27</td>\n",
              "      <td>207</td>\n",
              "      <td>43.6</td>\n",
              "      <td>1.034</td>\n",
              "      <td>53</td>\n",
              "      <td>1</td>\n",
              "    </tr>\n",
              "  </tbody>\n",
              "</table>\n",
              "<p>600 rows × 9 columns</p>\n",
              "</div>"
            ],
            "text/plain": [
              "     Pregnancies  Glucose  ...  Age  Outcome\n",
              "0              5      144  ...   58        1\n",
              "1              0      128  ...   25        1\n",
              "2              9      156  ...   42        1\n",
              "3              1      144  ...   46        1\n",
              "4              0      179  ...   23        1\n",
              "..           ...      ...  ...  ...      ...\n",
              "595            4      158  ...   31        1\n",
              "596           12       84  ...   46        1\n",
              "597            2      158  ...   66        1\n",
              "598            2       83  ...   22        0\n",
              "599            5      187  ...   53        1\n",
              "\n",
              "[600 rows x 9 columns]"
            ]
          },
          "metadata": {},
          "execution_count": 10
        }
      ]
    },
    {
      "cell_type": "markdown",
      "metadata": {
        "id": "r57WNcqBWwfp"
      },
      "source": [
        "Correlation matrix (diabetes dataset):"
      ]
    },
    {
      "cell_type": "code",
      "metadata": {
        "colab": {
          "base_uri": "https://localhost:8080/",
          "height": 359
        },
        "id": "S7dCJex66hYC",
        "outputId": "394df5e4-3940-437c-f428-b8a6cac3a838"
      },
      "source": [
        "# plot correlation matrix\n",
        "corr = df_train.corr()\n",
        "ax = sns.heatmap(\n",
        "    corr, \n",
        "    vmin=-1, vmax=1, center=0,\n",
        "    cmap=sns.diverging_palette(20, 220, n=200),\n",
        "    square=True\n",
        ")\n",
        "ax.set_xticklabels(\n",
        "    ax.get_xticklabels(),\n",
        "    rotation=45,\n",
        "    horizontalalignment='right'\n",
        ");"
      ],
      "execution_count": null,
      "outputs": [
        {
          "output_type": "display_data",
          "data": {
            "image/png": "[encoded data removed]",
            "text/plain": [
              "<Figure size 432x288 with 2 Axes>"
            ]
          },
          "metadata": {
            "needs_background": "light"
          }
        }
      ]
    },
    {
      "cell_type": "code",
      "metadata": {
        "colab": {
          "base_uri": "https://localhost:8080/"
        },
        "id": "uobWamiPbQcu",
        "outputId": "e652827e-c32f-4751-e3b2-e9585af28613"
      },
      "source": [
        "learning_rates = [0.2, 0.15, 0.1, 0.07, 0.05, 0.01, 0.005, 0.002]\n",
        "num_iterations = [1e3, 1e4, 1e5, 1e6]\n",
        "accuracies = []\n",
        "\n",
        "for rate in learning_rates:\n",
        "  for iteration in num_iterations:\n",
        "    model = LogisticRegression(verbose=True, max_iters=iteration, learning_rate=rate)\n",
        "    my_model = model.fit(df_train[features].to_numpy(), df_train.iloc[: , -1].to_numpy()) # train model on training data with current rate\n",
        "    predictions = my_model.predict(df_val[features].to_numpy())\n",
        "\n",
        "    binary_predictions = np.where((predictions > 0.5), 1, 0)\n",
        "    val_accuracy = np.mean(binary_predictions == df_val.iloc[: , -1].to_numpy())\n",
        "    print(\"Accuracy calculated: {} (rate= {}, number of iterations={})\".format(val_accuracy, rate, iteration))\n",
        "    accuracies.append((rate, (iteration, val_accuracy)))\n"
      ],
      "execution_count": null,
      "outputs": [
        {
          "name": "stdout",
          "output_type": "stream",
          "text": [
            "terminated after 1000 iterations, with norm of the gradient equal to 45.58396640608098\n",
            "the weight found: [ 28.6240045   -0.45115418 -18.20078656   0.05655761   1.27092065\n",
            "   1.49365059  -0.81988166  -6.4037459 ]\n",
            "Accuracy calculated: 0.62 (rate= 0.2, number of iterations=1000.0)\n",
            "terminated after 10000 iterations, with norm of the gradient equal to 58.566919713880225\n",
            "the weight found: [ 49.77571569  -0.25417683 -20.40295825  -0.3004283    1.42830108\n",
            "  17.00237327  -5.42753219 -61.72570954]\n",
            "Accuracy calculated: 0.63 (rate= 0.2, number of iterations=10000.0)\n",
            "terminated after 100000 iterations, with norm of the gradient equal to 49.6876471312434\n",
            "the weight found: [  78.72421661   16.0945337   -13.48234957    3.24155787    3.1524669\n",
            "  124.77402543   -4.28227238 -619.16415029]\n",
            "Accuracy calculated: 0.4 (rate= 0.2, number of iterations=100000.0)\n",
            "terminated after 1000000 iterations, with norm of the gradient equal to 46.01477135939168\n",
            "the weight found: [ 6.87548313e+01  2.15758389e+01 -5.04354117e+00 -1.06972622e+00\n",
            "  3.13235908e+01  4.00813653e+02  4.26450438e+00 -3.42245761e+03]\n",
            "Accuracy calculated: 0.67 (rate= 0.2, number of iterations=1000000.0)\n",
            "terminated after 1000 iterations, with norm of the gradient equal to 83.3653809996873\n",
            "the weight found: [ 21.33901324  -3.35583496 -15.49152134  -0.60827309  -0.05304009\n",
            "   1.11759579  -1.56982673  -4.801355  ]\n",
            "Accuracy calculated: 0.65 (rate= 0.15, number of iterations=1000.0)\n",
            "terminated after 10000 iterations, with norm of the gradient equal to 58.176435683481124\n",
            "the weight found: [ 37.50331644   6.43714386 -11.27075412   0.78169236   2.54287214\n",
            "  12.82999009  -2.30911302 -46.23768843]\n",
            "Accuracy calculated: 0.59 (rate= 0.15, number of iterations=10000.0)\n",
            "terminated after 100000 iterations, with norm of the gradient equal to 49.68066420653878\n",
            "the weight found: [  59.03519909   12.07126508  -10.11332467    2.43629449    2.35937633\n",
            "   93.56996765   -3.21819068 -463.78674266]\n",
            "Accuracy calculated: 0.4 (rate= 0.15, number of iterations=100000.0)\n",
            "terminated after 1000000 iterations, with norm of the gradient equal to 45.70649599353581\n",
            "the weight found: [ 5.15969091e+01  1.62226752e+01 -3.92846932e+00 -7.60432804e-01\n",
            "  2.34443694e+01  3.00412938e+02  3.20056333e+00 -2.56678115e+03]\n",
            "Accuracy calculated: 0.66 (rate= 0.15, number of iterations=1000000.0)\n",
            "terminated after 1000 iterations, with norm of the gradient equal to 59.33253608588359\n",
            "the weight found: [14.48237555  3.10517937 -8.27211576  0.42138253  1.27086386  0.76611952\n",
            "  0.38573113 -3.16103534]\n",
            "Accuracy calculated: 0.69 (rate= 0.1, number of iterations=1000.0)\n",
            "terminated after 10000 iterations, with norm of the gradient equal to 58.053757246490335\n",
            "the weight found: [ 24.36091085  -0.53599909  -9.53890687  -0.25256855   0.66555274\n",
            "   8.54313492  -2.67782036 -30.74226709]\n",
            "Accuracy calculated: 0.63 (rate= 0.1, number of iterations=10000.0)\n",
            "terminated after 100000 iterations, with norm of the gradient equal to 26.564228794814944\n",
            "the weight found: [  39.27962945    3.99310366   -9.07437845    0.92730974    0.52257627\n",
            "   62.42829647   -3.23960718 -310.43845494]\n",
            "Accuracy calculated: 0.67 (rate= 0.1, number of iterations=100000.0)\n",
            "terminated after 1000000 iterations, with norm of the gradient equal to 44.31538400565922\n",
            "the weight found: [ 3.43505624e+01  7.01724140e+00 -4.58432392e+00 -1.14387102e+00\n",
            "  1.46995368e+01  2.00331055e+02  1.05188412e+00 -1.71094986e+03]\n",
            "Accuracy calculated: 0.75 (rate= 0.1, number of iterations=1000000.0)\n",
            "terminated after 1000 iterations, with norm of the gradient equal to 59.33253608588359\n",
            "the weight found: [ 9.88433152  2.34289114 -5.33867324  0.28330536  0.99062122  0.54422085\n",
            "  0.29642369 -2.20167826]\n",
            "Accuracy calculated: 0.67 (rate= 0.07, number of iterations=1000.0)\n",
            "terminated after 10000 iterations, with norm of the gradient equal to 59.33253608588359\n",
            "the weight found: [ 17.11293719   2.31272869  -5.11318627   0.17300429   1.12562337\n",
            "   5.96942686  -1.1663521  -21.53611221]\n",
            "Accuracy calculated: 0.7 (rate= 0.07, number of iterations=10000.0)\n",
            "terminated after 100000 iterations, with norm of the gradient equal to 81.29708998585292\n",
            "the weight found: [ 2.76488767e+01  1.02642274e+00 -7.43228228e+00  3.73090115e-01\n",
            " -1.47340168e-01  4.37146089e+01 -2.80869471e+00 -2.15835804e+02]\n",
            "Accuracy calculated: 0.64 (rate= 0.07, number of iterations=100000.0)\n",
            "terminated after 1000000 iterations, with norm of the gradient equal to 46.840939412366104\n",
            "the weight found: [ 2.40560307e+01  4.86957738e+00 -3.26686132e+00 -8.09238496e-01\n",
            "  1.02836250e+01  1.40286099e+02  7.17828078e-01 -1.19759858e+03]\n",
            "Accuracy calculated: 0.74 (rate= 0.07, number of iterations=1000000.0)\n",
            "terminated after 1000 iterations, with norm of the gradient equal to 88.38056160024425\n",
            "the weight found: [ 6.98500151 -0.89658615 -4.99233456 -0.16266626  0.08991438  0.38326003\n",
            " -0.41923462 -1.59170297]\n",
            "Accuracy calculated: 0.65 (rate= 0.05, number of iterations=1000.0)\n",
            "terminated after 10000 iterations, with norm of the gradient equal to 88.37356865944774\n",
            "the weight found: [ 12.27500196  -0.38846872  -5.09282972  -0.08834766   0.12454754\n",
            "   4.26588327  -1.43771353 -15.41512587]\n",
            "Accuracy calculated: 0.65 (rate= 0.05, number of iterations=10000.0)\n",
            "terminated after 100000 iterations, with norm of the gradient equal to 81.14341132887166\n",
            "the weight found: [ 1.98636199e+01  7.48647508e-01 -5.34776742e+00  2.63936031e-01\n",
            " -1.16599253e-01  3.12763717e+01 -2.01247858e+00 -1.53287872e+02]\n",
            "Accuracy calculated: 0.64 (rate= 0.05, number of iterations=100000.0)\n",
            "terminated after 1000000 iterations, with norm of the gradient equal to 46.610647146686105\n",
            "the weight found: [ 1.71966177e+01  3.48596420e+00 -2.34363717e+00 -5.76048219e-01\n",
            "  7.35763296e+00  1.00119664e+02  5.22608472e-01 -8.55313480e+02]\n",
            "Accuracy calculated: 0.74 (rate= 0.05, number of iterations=1000000.0)\n",
            "terminated after 1000 iterations, with norm of the gradient equal to 5.76889200273781\n",
            "the weight found: [ 1.4391868   0.3709358  -0.80230792  0.05859949  0.13612568  0.0776758\n",
            "  0.05223359 -0.31652678]\n",
            "Accuracy calculated: 0.67 (rate= 0.01, number of iterations=1000.0)\n",
            "terminated after 10000 iterations, with norm of the gradient equal to 59.33229671131076\n",
            "the weight found: [ 2.54831573  0.32495799 -0.7530132   0.03845807  0.12071467  0.85040651\n",
            " -0.1946691  -3.1437397 ]\n",
            "Accuracy calculated: 0.7 (rate= 0.01, number of iterations=10000.0)\n",
            "terminated after 100000 iterations, with norm of the gradient equal to 80.64775041463798\n",
            "the weight found: [ 4.08625734e+00  1.53229653e-01 -1.06785984e+00  6.10939602e-02\n",
            " -1.21268399e-02  6.36503922e+00 -4.11484575e-01 -3.13452733e+01]\n",
            "Accuracy calculated: 0.64 (rate= 0.01, number of iterations=100000.0)\n",
            "terminated after 1000000 iterations, with norm of the gradient equal to 46.00039663052612\n",
            "the weight found: [ 3.50605331e+00  6.93579750e-01 -4.67114992e-01 -1.15362665e-01\n",
            "  1.48675529e+00  2.00868145e+01  9.85809459e-02 -1.71142113e+02]\n",
            "Accuracy calculated: 0.74 (rate= 0.01, number of iterations=1000000.0)\n",
            "terminated after 1000 iterations, with norm of the gradient equal to 7.732095533859096\n",
            "the weight found: [ 0.70193195  0.17923957 -0.36810781  0.02807217  0.07430108  0.03922971\n",
            "  0.02861355 -0.1583351 ]\n",
            "Accuracy calculated: 0.58 (rate= 0.005, number of iterations=1000.0)\n",
            "terminated after 10000 iterations, with norm of the gradient equal to 37.95980560579254\n",
            "the weight found: [ 1.30327236  0.03114036 -0.41655262  0.00835437  0.02290923  0.42230429\n",
            " -0.12901567 -1.58662763]\n",
            "Accuracy calculated: 0.62 (rate= 0.005, number of iterations=10000.0)\n",
            "terminated after 100000 iterations, with norm of the gradient equal to 57.7621334331474\n",
            "the weight found: [  2.08428788   0.32153261  -0.40621906   0.07335329   0.05232348\n",
            "   3.23516717  -0.1445508  -15.98646049]\n",
            "Accuracy calculated: 0.66 (rate= 0.005, number of iterations=100000.0)\n",
            "terminated after 1000000 iterations, with norm of the gradient equal to 45.76022173647317\n",
            "the weight found: [ 1.80903303e+00  5.35633456e-01 -1.29617916e-01 -2.47750728e-02\n",
            "  7.99182306e-01  9.85532516e+00  8.30492928e-02 -8.54803498e+01]\n",
            "Accuracy calculated: 0.67 (rate= 0.005, number of iterations=1000000.0)\n",
            "terminated after 1000 iterations, with norm of the gradient equal to 20.084898787904624\n",
            "the weight found: [ 0.30324221  0.05716074 -0.19130189  0.01335998 -0.01200137  0.01427952\n",
            " -0.00399567 -0.06885362]\n",
            "Accuracy calculated: 0.61 (rate= 0.002, number of iterations=1000.0)\n",
            "terminated after 10000 iterations, with norm of the gradient equal to 23.965646777095422\n",
            "the weight found: [ 0.77557622  0.06565057 -0.19453858  0.02639437 -0.03508086  0.15833803\n",
            " -0.07897585 -0.69750979]\n",
            "Accuracy calculated: 0.65 (rate= 0.002, number of iterations=10000.0)\n",
            "terminated after 100000 iterations, with norm of the gradient equal to 36.940364340559846\n",
            "the weight found: [ 0.86020342  0.07007543 -0.18852762  0.02277041  0.00883984  1.37323718\n",
            " -0.08021392 -6.52460015]\n",
            "Accuracy calculated: 0.64 (rate= 0.002, number of iterations=100000.0)\n",
            "terminated after 1000000 iterations, with norm of the gradient equal to 44.75357487317937\n",
            "the weight found: [ 7.19562802e-01  1.35377202e-01 -9.00926539e-02 -2.08911460e-02\n",
            "  3.06101583e-01  3.69511048e+00  9.87417598e-03 -3.39474195e+01]\n",
            "Accuracy calculated: 0.74 (rate= 0.002, number of iterations=1000000.0)\n"
          ]
        }
      ]
    },
    {
      "cell_type": "code",
      "metadata": {
        "colab": {
          "base_uri": "https://localhost:8080/",
          "height": 279
        },
        "id": "ygzFaXH1G0de",
        "outputId": "ec61f043-ed31-4417-d6de-c45067211550"
      },
      "source": [
        "values = {}\n",
        "for (key, value) in accuracies:\n",
        "  values.setdefault(key ,[]).append(value)\n",
        "\n",
        "# plotting accuracy for given learning rate\n",
        "for key, item in values.items():\n",
        "  plt.plot(*zip(*item), label=key)\n",
        "\n",
        "plt.legend()\n",
        "plt.xlabel(\"number of iterations\")\n",
        "plt.ylabel(\"accuracy on the validation data\")\n",
        "plt.show()"
      ],
      "execution_count": null,
      "outputs": [
        {
          "data": {
            "image/png": "[encoded data removed]",
            "text/plain": [
              "<Figure size 432x288 with 1 Axes>"
            ]
          },
          "metadata": {},
          "output_type": "display_data"
        }
      ]
    },
    {
      "cell_type": "code",
      "metadata": {
        "colab": {
          "base_uri": "https://localhost:8080/",
          "height": 344
        },
        "id": "7DLGogNDlMzh",
        "outputId": "09f745e2-b997-4c52-d288-224a3b012569"
      },
      "source": [
        "# train data at 1e7 iterations to see if convergence under eps happens\n",
        "model = LogisticRegression(verbose=True, max_iters=1e7, learning_rate=0.002)\n",
        "my_model = model.fit(df_train[features].to_numpy(), df_train.iloc[: , -1].to_numpy()) # train model on training data with current rate\n",
        "predictions = my_model.predict(df_test[features].to_numpy())\n",
        "\n",
        "binary_predictions = np.where((predictions > 0.5), 1, 0)\n",
        "test_accuracy = np.mean(binary_predictions == df_test.iloc[: , -1].to_numpy())\n",
        "\n",
        "# plot confusion matrix\n",
        "cm = confusion_matrix(df_test.iloc[: , -1].to_numpy(), binary_predictions, normalize='all')\n",
        "cmd = ConfusionMatrixDisplay(cm, display_labels=[])\n",
        "cmd.plot()\n",
        "\n",
        "print(\"Accuracy: {}%\".format(test_accuracy * 100))\n"
      ],
      "execution_count": null,
      "outputs": [
        {
          "output_type": "stream",
          "name": "stdout",
          "text": [
            "terminated after 10000000 iterations, with norm of the gradient equal to 41.103083227116656\n",
            "the weight found: [ 6.63717598e-01  1.36687347e-01 -7.18812763e-02 -2.85590156e-02\n",
            "  3.71896850e-01  3.53389365e+00  2.73823239e-02 -3.71170074e+01]\n",
            "Accuracy: 72.05882352941177%\n"
          ]
        },
        {
          "output_type": "display_data",
          "data": {
            "image/png": "[encoded data removed]",
            "text/plain": [
              "<Figure size 432x288 with 2 Axes>"
            ]
          },
          "metadata": {
            "needs_background": "light"
          }
        }
      ]
    },
    {
      "cell_type": "code",
      "metadata": {
        "colab": {
          "base_uri": "https://localhost:8080/"
        },
        "id": "fOkzo9z6UHQH",
        "outputId": "4a4803a8-23c3-42ba-996f-02492cdbf7fb"
      },
      "source": [
        "# select learnings rates that give above 70% accuracy on the validation data, test with testing data\n",
        "\n",
        "candidates = []\n",
        "\n",
        "for item in accuracies:\n",
        "  if item[1][1] > 0.70:\n",
        "    candidates.append(item)\n",
        "\n",
        "candidate_accuracies = []\n",
        "\n",
        "for rate, values in candidates:\n",
        "  model = LogisticRegression(verbose=False, max_iters=values[0], learning_rate=rate)\n",
        "  my_model = model.fit(df_train[features].to_numpy(), df_train.iloc[: , -1].to_numpy()) # train model on training data with current rate\n",
        "  predictions = my_model.predict(df_test[features].to_numpy())\n",
        "\n",
        "  binary_predictions = np.where((predictions > 0.5), 1, 0)\n",
        "  val_accuracy = np.mean(binary_predictions == df_test.iloc[: , -1].to_numpy())\n",
        "  candidate_accuracies.append((rate, (values[0], val_accuracy)))\n",
        "  print(\"Accuracy calculated: {} (rate= {}, number of iterations={})\".format(val_accuracy, rate, values[0]))\n"
      ],
      "execution_count": null,
      "outputs": [
        {
          "name": "stdout",
          "output_type": "stream",
          "text": [
            "Accuracy calculated: 0.7205882352941176 (rate= 0.1, number of iterations=1000000.0)\n",
            "Accuracy calculated: 0.7205882352941176 (rate= 0.07, number of iterations=1000000.0)\n",
            "Accuracy calculated: 0.7205882352941176 (rate= 0.05, number of iterations=1000000.0)\n",
            "Accuracy calculated: 0.7205882352941176 (rate= 0.01, number of iterations=1000000.0)\n",
            "Accuracy calculated: 0.7205882352941176 (rate= 0.002, number of iterations=1000000.0)\n"
          ]
        }
      ]
    },
    {
      "cell_type": "code",
      "metadata": {
        "colab": {
          "base_uri": "https://localhost:8080/",
          "height": 347
        },
        "id": "26Cp9NtTcgR7",
        "outputId": "37a008c3-613c-4889-c388-7abe41bf089d"
      },
      "source": [
        "#print(candidate_accuracies)\n",
        "\n",
        "model = LogisticRegression(verbose=True, max_iters=1e6, learning_rate=0.1)\n",
        "my_model = model.fit(df_train[features].to_numpy(), df_train.iloc[: , -1].to_numpy()) # train model on training data with current rate\n",
        "predictions = my_model.predict(df_test[features].to_numpy())\n",
        "\n",
        "binary_predictions = np.where((predictions > 0.5), 1, 0)\n",
        "val_accuracy = np.mean(binary_predictions == df_test.iloc[: , -1].to_numpy())\n",
        "\n",
        "# plot confusion matrix\n",
        "cm = confusion_matrix(df_test.iloc[: , -1].to_numpy(), binary_predictions, normalize='all')\n",
        "cmd = ConfusionMatrixDisplay(cm, display_labels=[])\n",
        "cmd.plot()\n"
      ],
      "execution_count": null,
      "outputs": [
        {
          "name": "stdout",
          "output_type": "stream",
          "text": [
            "terminated after 1000000 iterations, with norm of the gradient equal to 44.31538400565922\n",
            "the weight found: [ 3.43505624e+01  7.01724140e+00 -4.58432392e+00 -1.14387102e+00\n",
            "  1.46995368e+01  2.00331055e+02  1.05188412e+00 -1.71094986e+03]\n"
          ]
        },
        {
          "data": {
            "text/plain": [
              "<sklearn.metrics._plot.confusion_matrix.ConfusionMatrixDisplay at 0x7f2485724b90>"
            ]
          },
          "execution_count": 78,
          "metadata": {},
          "output_type": "execute_result"
        },
        {
          "data": {
            "image/png": "[encoded data removed]",
            "text/plain": [
              "<Figure size 432x288 with 2 Axes>"
            ]
          },
          "metadata": {},
          "output_type": "display_data"
        }
      ]
    },
    {
      "cell_type": "code",
      "metadata": {
        "colab": {
          "base_uri": "https://localhost:8080/"
        },
        "id": "5CEv443E5Z09",
        "outputId": "64a027f5-2df7-45a4-cb19-c8defc40b186"
      },
      "source": [
        "# cross validation\n",
        "\n",
        "df_train_val = pd.concat([df_train, df_val], axis=0) # merge validation & training datasets for cross validation\n",
        "\n",
        "train_x = df_train_val[features].to_numpy()\n",
        "train_label = df_train_val.iloc[: , -1].to_numpy()\n",
        "\n",
        "\n",
        "def cross_validate(train_x, train_label, rates):\n",
        "  current_best_rate = -1\n",
        "  current_best_accuracy = 0\n",
        "  accuracies = []\n",
        "\n",
        "  # make divisible by 5\n",
        "  v = train_x.shape[0] % 5\n",
        "  if (v != 0):\n",
        "    train_x = train_x[v::]\n",
        "    train_label = train_label[v::]\n",
        "  print(rates)\n",
        "  for rate in rates:\n",
        "    # divide dataset into 5 parts\n",
        "    train_x_splits = np.split(train_x, 5)\n",
        "    train_label_splits = np.split(train_label, 5)\n",
        "\n",
        "    for x in range(5):\n",
        "      validation_set_X = train_x_splits[x]\n",
        "      validation_set_Y = train_label_splits[x]\n",
        "\n",
        "      training_sets_X = np.concatenate(train_x_splits[:x] +\n",
        "                                      train_x_splits[x+1:], axis=0)\n",
        "      training_sets_Y = np.concatenate(train_label_splits[:x] +\n",
        "                                      train_label_splits[x+1:], axis=0)\n",
        "\n",
        "      # train\n",
        "      model = LogisticRegression(verbose=True, max_iters=1e6, learning_rate=rate)\n",
        "      print(rate)\n",
        "      my_model = model.fit(training_sets_X, training_sets_Y) # train model on training data with current rate\n",
        "      \n",
        "      # get results and accuracies\n",
        "      predictions = my_model.predict(validation_set_X)\n",
        "      binary_predictions = np.where((predictions > 0.5), 1, 0)\n",
        "      current_accuracy = np.mean(binary_predictions == validation_set_Y)\n",
        "      accuracies.append(current_accuracy)\n",
        "      \n",
        "    average = np.mean(accuracies)\n",
        "    if average > current_best_accuracy:\n",
        "      current_best_rate = rate\n",
        "      current_best_accuracy = average\n",
        "  return (current_best_rate, current_best_accuracy)\n",
        "\n",
        "\n",
        "result = cross_validate(train_x, train_label, rates = [0.1, 0.07, 0.05, 0.01, 0.002])\n",
        "print('Model with learning rate = {} give us the best accuracy ({}%)'.format(result[0], result[1]))"
      ],
      "execution_count": null,
      "outputs": [
        {
          "output_type": "stream",
          "name": "stdout",
          "text": [
            "[0.1, 0.07, 0.05, 0.01, 0.002]\n",
            "0.1\n",
            "terminated after 1000000 iterations, with norm of the gradient equal to 45.3011890303373\n",
            "the weight found: [ 3.69955980e+01  6.82131768e+00 -3.96616614e+00 -1.64837052e+00\n",
            "  1.33058993e+01  2.34441393e+02 -1.20434783e+00 -1.64666810e+03]\n",
            "0.1\n",
            "terminated after 1000000 iterations, with norm of the gradient equal to 47.15083195235423\n",
            "the weight found: [ 2.86330158e+01  6.12249049e+00 -4.83663286e+00 -4.69624373e-01\n",
            "  1.56291566e+01  1.90847772e+02  2.69808042e+00 -1.67447176e+03]\n",
            "0.1\n",
            "terminated after 1000000 iterations, with norm of the gradient equal to 46.70340886210453\n",
            "the weight found: [ 2.85533514e+01  9.86307714e+00 -2.82716947e+00 -8.04304592e-01\n",
            "  2.12582126e+01  2.39567237e+02  5.24195779e+00 -1.85283533e+03]\n",
            "0.1\n",
            "terminated after 1000000 iterations, with norm of the gradient equal to 40.25528468339208\n",
            "the weight found: [   29.80173932    10.62592174    -3.03907078    -1.68262045\n",
            "    16.27983385   176.86525062     2.58605406 -1671.08423161]\n",
            "0.1\n",
            "terminated after 1000000 iterations, with norm of the gradient equal to 46.54713961850392\n",
            "the weight found: [ 4.17421079e+01  1.06286685e+01 -3.64243205e+00  5.68266256e-01\n",
            "  1.79345071e+01  1.66723934e+02  5.92656750e-01 -1.69315931e+03]\n",
            "0.07\n",
            "terminated after 1000000 iterations, with norm of the gradient equal to 45.679865317505374\n",
            "the weight found: [ 2.59884259e+01  4.76069159e+00 -2.79351403e+00 -1.17570325e+00\n",
            "  9.33685780e+00  1.63928501e+02 -8.91333204e-01 -1.15155472e+03]\n",
            "0.07\n",
            "terminated after 1000000 iterations, with norm of the gradient equal to 48.189795638756905\n",
            "the weight found: [ 2.06829451e+01  7.07337193e+00 -1.88765698e+00  9.94894250e-02\n",
            "  1.15505597e+01  1.33737676e+02  2.52535887e+00 -1.17199595e+03]\n",
            "0.07\n",
            "terminated after 1000000 iterations, with norm of the gradient equal to 45.35907582622662\n",
            "the weight found: [ 1.99380316e+01  4.16412355e+00 -3.29155452e+00 -1.01250446e+00\n",
            "  1.42083495e+01  1.67778337e+02  2.94278644e+00 -1.29719387e+03]\n",
            "0.07\n",
            "terminated after 1000000 iterations, with norm of the gradient equal to 32.02310142171188\n",
            "the weight found: [   20.83138753     6.94495492    -1.87944063    -1.22845127\n",
            "    11.45864476   123.85822499     1.76027076 -1169.46282398]\n",
            "0.07\n",
            "terminated after 1000000 iterations, with norm of the gradient equal to 46.5662098134208\n",
            "the weight found: [ 2.90546812e+01  7.44090665e+00 -2.52703305e+00  3.69014798e-01\n",
            "  1.25490591e+01  1.16863167e+02  4.20361516e-01 -1.18537524e+03]\n",
            "0.05\n",
            "terminated after 1000000 iterations, with norm of the gradient equal to 45.50151252703468\n",
            "the weight found: [ 1.85152226e+01  3.40687506e+00 -2.00389752e+00 -8.30532769e-01\n",
            "  6.69453132e+00  1.17234902e+02 -6.29089420e-01 -8.22688338e+02]\n",
            "0.05\n",
            "terminated after 1000000 iterations, with norm of the gradient equal to 48.120522343503055\n",
            "the weight found: [ 1.47117115e+01  3.04582918e+00 -2.42082892e+00 -2.47109986e-01\n",
            "  7.76348856e+00  9.56968050e+01  1.27718680e+00 -8.37276315e+02]\n",
            "0.05\n",
            "terminated after 1000000 iterations, with norm of the gradient equal to 47.0220612972746\n",
            "the weight found: [ 1.43497302e+01  4.93390008e+00 -1.37789219e+00 -4.04151715e-01\n",
            "  1.06091359e+01  1.19757509e+02  2.61569036e+00 -9.26535615e+02]\n",
            "0.05\n",
            "terminated after 1000000 iterations, with norm of the gradient equal to 47.792416199742505\n",
            "the weight found: [ 1.48327396e+01  3.52288830e+00 -2.53652135e+00 -1.22664428e+00\n",
            "  7.71962849e+00  8.83854539e+01  7.57904509e-01 -8.35104811e+02]\n",
            "0.05\n",
            "terminated after 1000000 iterations, with norm of the gradient equal to 46.93331804857487\n",
            "the weight found: [ 2.07182120e+01  3.37994721e+00 -2.83482261e+00 -4.05485558e-02\n",
            "  8.46657159e+00  8.36343976e+01 -2.44125022e-01 -8.46624243e+02]\n",
            "0.01\n",
            "terminated after 1000000 iterations, with norm of the gradient equal to 45.127852996332905\n",
            "the weight found: [ 3.69616194e+00  1.05249691e+00 -1.91540513e-01 -9.44108557e-02\n",
            "  1.44481513e+00  2.34185040e+01 -3.52849106e-02 -1.64589771e+02]\n",
            "0.01\n",
            "terminated after 1000000 iterations, with norm of the gradient equal to 47.99406962990477\n",
            "the weight found: [ 2.87229879e+00  1.00799401e+00 -2.75217100e-01  1.45569550e-02\n",
            "  1.67559297e+00  1.85474733e+01  3.67365784e-01 -1.67572240e+02]\n",
            "0.01\n",
            "terminated after 1000000 iterations, with norm of the gradient equal to 45.93440207620392\n",
            "the weight found: [ 2.86489377e+00  6.07899605e-01 -4.76492070e-01 -1.41267941e-01\n",
            "  2.00742935e+00  2.38457390e+01  4.05034138e-01 -1.85684108e+02]\n",
            "0.01\n",
            "terminated after 1000000 iterations, with norm of the gradient equal to 45.82752182530491\n",
            "the weight found: [ 2.96378448e+00  7.14988470e-01 -5.00613289e-01 -2.44775900e-01\n",
            "  1.53899415e+00  1.76583111e+01  1.59688365e-01 -1.67087042e+02]\n",
            "0.01\n",
            "terminated after 1000000 iterations, with norm of the gradient equal to 46.87256491002559\n",
            "the weight found: [ 4.20617852e+00  1.07636483e+00 -3.54100852e-01  5.76953368e-02\n",
            "  1.76976526e+00  1.66459878e+01  2.65137288e-02 -1.69437771e+02]\n",
            "0.002\n",
            "terminated after 1000000 iterations, with norm of the gradient equal to 43.56452640019819\n",
            "the weight found: [ 6.94270232e-01  2.05055076e-01 -3.53618135e-02 -1.98157894e-02\n",
            "  2.96265005e-01  4.26959963e+00  3.86681378e-03 -3.30097516e+01]\n",
            "0.002\n",
            "terminated after 1000000 iterations, with norm of the gradient equal to 46.158985849970726\n",
            "the weight found: [ 5.30735988e-01  1.93772055e-01 -4.61580789e-02 -1.10571780e-03\n",
            "  3.49677157e-01  3.58219789e+00  7.13488174e-02 -3.37016644e+01]\n",
            "0.002\n",
            "terminated after 1000000 iterations, with norm of the gradient equal to 45.96963507815374\n",
            "the weight found: [ 5.58172704e-01  1.96951464e-01 -5.34724283e-02 -1.49911876e-02\n",
            "  4.16821828e-01  4.80193563e+00  9.83921055e-02 -3.69390980e+01]\n",
            "0.002\n",
            "terminated after 1000000 iterations, with norm of the gradient equal to 43.35291229667202\n",
            "the weight found: [ 5.94249351e-01  1.38662260e-01 -9.40456888e-02 -4.56315835e-02\n",
            "  3.10126784e-01  3.31825684e+00  3.00504881e-02 -3.30146759e+01]\n",
            "0.002\n",
            "terminated after 1000000 iterations, with norm of the gradient equal to 45.533908840588744\n",
            "the weight found: [ 8.04689407e-01  1.34578975e-01 -1.03091796e-01 -8.14168400e-03\n",
            "  3.26793827e-01  3.22727410e+00 -9.69513028e-03 -3.35937629e+01]\n",
            "Model with learning rate = 0.002 give us the best accuracy (0.6728571428571429%)\n"
          ]
        }
      ]
    },
    {
      "cell_type": "code",
      "metadata": {
        "colab": {
          "base_uri": "https://localhost:8080/",
          "height": 344
        },
        "id": "4BOexMj1Cctc",
        "outputId": "c4c8030c-bcc8-4f03-bc3d-a29c54f135c0"
      },
      "source": [
        "# from cross-validation, rate = 0.002 and max_iters = 1e6 performs best\n",
        "# run model with those params on training dataset\n",
        "\n",
        "model = LogisticRegression(verbose=True, max_iters=1e6, learning_rate=0.002)\n",
        "my_model = model.fit(df_train[features].to_numpy(), df_train.iloc[: , -1].to_numpy()) # train model on training data with current rate\n",
        "predictions = my_model.predict(df_train[features].to_numpy())\n",
        "\n",
        "binary_predictions = np.where((predictions > 0.5), 1, 0)\n",
        "train_accuracy = np.mean(binary_predictions == df_train.iloc[: , -1].to_numpy())\n",
        "\n",
        "# plot confusion matrix\n",
        "cm = confusion_matrix(df_train.iloc[: , -1].to_numpy(), binary_predictions, normalize='all')\n",
        "cmd = ConfusionMatrixDisplay(cm, display_labels=[])\n",
        "cmd.plot()\n",
        "\n",
        "print(\"Accuracy: {}%\".format(train_accuracy * 100))"
      ],
      "execution_count": null,
      "outputs": [
        {
          "output_type": "stream",
          "name": "stdout",
          "text": [
            "terminated after 1000000 iterations, with norm of the gradient equal to 44.75357487317937\n",
            "the weight found: [ 7.19562802e-01  1.35377202e-01 -9.00926539e-02 -2.08911460e-02\n",
            "  3.06101583e-01  3.69511048e+00  9.87417598e-03 -3.39474195e+01]\n",
            "Accuracy: 69.66666666666667%\n"
          ]
        },
        {
          "output_type": "display_data",
          "data": {
            "image/png": "[encoded data removed]",
            "text/plain": [
              "<Figure size 432x288 with 2 Axes>"
            ]
          },
          "metadata": {
            "needs_background": "light"
          }
        }
      ]
    },
    {
      "cell_type": "code",
      "metadata": {
        "colab": {
          "base_uri": "https://localhost:8080/",
          "height": 344
        },
        "id": "0ZzN1ReGDHp_",
        "outputId": "00e6b3e9-9fcb-409e-c822-35d03d620b14"
      },
      "source": [
        "# from cross-validation, rate = 0.002 and max_iters = 1e6 performs best\n",
        "# run model with those params on validation dataset\n",
        "\n",
        "model = LogisticRegression(verbose=True, max_iters=1e6, learning_rate=0.002)\n",
        "my_model = model.fit(df_train[features].to_numpy(), df_train.iloc[: , -1].to_numpy()) # train model on training data with current rate\n",
        "predictions = my_model.predict(df_val[features].to_numpy())\n",
        "\n",
        "binary_predictions = np.where((predictions > 0.5), 1, 0)\n",
        "test_accuracy = np.mean(binary_predictions == df_val.iloc[: , -1].to_numpy())\n",
        "\n",
        "# plot confusion matrix\n",
        "cm = confusion_matrix(df_val.iloc[: , -1].to_numpy(), binary_predictions, normalize='all')\n",
        "cmd = ConfusionMatrixDisplay(cm, display_labels=[])\n",
        "cmd.plot()\n",
        "\n",
        "print(\"Accuracy: {}%\".format(test_accuracy * 100))"
      ],
      "execution_count": null,
      "outputs": [
        {
          "output_type": "stream",
          "name": "stdout",
          "text": [
            "terminated after 1000000 iterations, with norm of the gradient equal to 44.75357487317937\n",
            "the weight found: [ 7.19562802e-01  1.35377202e-01 -9.00926539e-02 -2.08911460e-02\n",
            "  3.06101583e-01  3.69511048e+00  9.87417598e-03 -3.39474195e+01]\n",
            "Accuracy: 74.0%\n"
          ]
        },
        {
          "output_type": "display_data",
          "data": {
            "image/png": "[encoded data removed]",
            "text/plain": [
              "<Figure size 432x288 with 2 Axes>"
            ]
          },
          "metadata": {
            "needs_background": "light"
          }
        }
      ]
    },
    {
      "cell_type": "code",
      "metadata": {
        "colab": {
          "base_uri": "https://localhost:8080/",
          "height": 344
        },
        "id": "7dxz6FwaDvoy",
        "outputId": "997efec6-fac1-4b44-c931-92e3ed175874"
      },
      "source": [
        "# from cross-validation, rate = 0.002 and max_iters = 1e6 performs best\n",
        "# run model with those params on test dataset\n",
        "\n",
        "model = LogisticRegression(verbose=True, max_iters=1e6, learning_rate=0.002)\n",
        "my_model = model.fit(df_train[features].to_numpy(), df_train.iloc[: , -1].to_numpy()) # train model on training data with current rate\n",
        "predictions = my_model.predict(df_test[features].to_numpy())\n",
        "\n",
        "binary_predictions = np.where((predictions > 0.5), 1, 0)\n",
        "test_accuracy = np.mean(binary_predictions == df_test.iloc[: , -1].to_numpy())\n",
        "\n",
        "# plot confusion matrix\n",
        "cm = confusion_matrix(df_test.iloc[: , -1].to_numpy(), binary_predictions, normalize='all')\n",
        "cmd = ConfusionMatrixDisplay(cm, display_labels=[])\n",
        "cmd.plot()\n",
        "\n",
        "print(\"Accuracy: {}%\".format(test_accuracy * 100))"
      ],
      "execution_count": null,
      "outputs": [
        {
          "output_type": "stream",
          "name": "stdout",
          "text": [
            "terminated after 1000000 iterations, with norm of the gradient equal to 44.75357487317937\n",
            "the weight found: [ 7.19562802e-01  1.35377202e-01 -9.00926539e-02 -2.08911460e-02\n",
            "  3.06101583e-01  3.69511048e+00  9.87417598e-03 -3.39474195e+01]\n",
            "Accuracy: 72.05882352941177%\n"
          ]
        },
        {
          "output_type": "display_data",
          "data": {
            "image/png": "[encoded data removed]",
            "text/plain": [
              "<Figure size 432x288 with 2 Axes>"
            ]
          },
          "metadata": {
            "needs_background": "light"
          }
        }
      ]
    },
    {
      "cell_type": "markdown",
      "metadata": {
        "id": "dI3vc_mtG1f9"
      },
      "source": [
        "\n",
        "\n",
        "---\n",
        "\n"
      ]
    },
    {
      "cell_type": "markdown",
      "metadata": {
        "id": "Fa1DJ52tG5L9"
      },
      "source": [
        "## 2. Mini-batch Gradient Descent"
      ]
    },
    {
      "cell_type": "markdown",
      "metadata": {
        "id": "kaeEYIQnHbmN"
      },
      "source": [
        "Implementing mini-batch stochastic gradient descent : "
      ]
    },
    {
      "cell_type": "code",
      "metadata": {
        "colab": {
          "base_uri": "https://localhost:8080/"
        },
        "id": "8_R-mTJBjHnY",
        "outputId": "c59db3a5-b2c9-4f87-ca66-5ebe03317dd4"
      },
      "source": [
        "from google.colab import drive\n",
        "drive.mount('/content/drive', force_remount=False)\n",
        "\n",
        "features = ['Pregnancies', 'Glucose', 'BloodPressure', 'SkinThickness', 'BMI', 'DiabetesPedigreeFunction', 'Age']\n",
        "\n",
        "df_train = pd.read_csv('/content/drive/MyDrive/diabetes/diabetes_train.csv')\n",
        "df_test = pd.read_csv('/content/drive/MyDrive/diabetes/diabetes_test.csv')\n",
        "df_val = pd.read_csv('/content/drive/MyDrive/diabetes/diabetes_val.csv')"
      ],
      "execution_count": null,
      "outputs": [
        {
          "output_type": "stream",
          "name": "stdout",
          "text": [
            "Drive already mounted at /content/drive; to attempt to forcibly remount, call drive.mount(\"/content/drive\", force_remount=True).\n"
          ]
        }
      ]
    },
    {
      "cell_type": "code",
      "metadata": {
        "id": "RZLjKsgKG4AA"
      },
      "source": [
        "class mini_batch_gradient_descent:\n",
        "\n",
        "    def __init__(self, add_bias=True, learning_rate=.1, epsilon=1e-4, num_epochs=1e5, verbose=False, batch_size=32):\n",
        "        self.add_bias = add_bias\n",
        "        self.learning_rate = learning_rate\n",
        "        self.epsilon = epsilon                        #to get the tolerance for the norm of gradients \n",
        "        self.num_epochs = num_epochs                    #maximum number of iteration of gradient descent\n",
        "        self.verbose = verbose\n",
        "        self.batch_size=batch_size\n",
        "\n",
        "    def gradient(self, x, y):\n",
        "        N,D = x.shape\n",
        "        yh = logistic(np.dot(x, self.w))    # predictions  size N\n",
        "        grad = np.dot(x.T, yh - y)/N \n",
        "        #print(grad)       # divide by N because cost is mean over N points\n",
        "        return grad\n",
        "  \n",
        "    def create_mini_batches(self,x, y, batch_size):\n",
        "        mini_batches = []\n",
        "        data = np.column_stack((x, y))\n",
        "        np.random.shuffle(data)\n",
        "        n_minibatches = x.shape[0] // batch_size\n",
        "        i = 0\n",
        "  \n",
        "        for i in range(n_minibatches):\n",
        "            mini_batch = data[i * batch_size:(i + 1)*batch_size, :]\n",
        "            x_mini = mini_batch[:, :-1]\n",
        "            y_mini = mini_batch[:, -1]\n",
        "            mini_batches.append((x_mini, y_mini))\n",
        "        if data.shape[0] % batch_size != 0:\n",
        "            mini_batch = data[i * batch_size:data.shape[0]]\n",
        "            x_mini = mini_batch[:, :-1]\n",
        "            y_mini = mini_batch[:, -1]\n",
        "            mini_batches.append((x_mini, y_mini))\n",
        "        return mini_batches\n",
        "       \n",
        "    def fit(self, x, y):\n",
        "        if x.ndim == 1:\n",
        "            x = x[:, None]\n",
        "        if self.add_bias:\n",
        "            N = x.shape[0]\n",
        "            x = np.column_stack([x,np.ones(N)])\n",
        "        N,D = x.shape\n",
        "        self.w = np.zeros(D)\n",
        "        g = np.inf\n",
        "        t = 0\n",
        "        # the code snippet below is for mini batch gradient descent\n",
        "        while np.linalg.norm(g) > self.epsilon and t < self.num_epochs:\n",
        "            mini_batches = self.create_mini_batches(x,y,self.batch_size)\n",
        "            for mini_batch in mini_batches:\n",
        "                x_mini, y_mini = mini_batch\n",
        "                g = self.gradient(x_mini,y_mini)\n",
        "                self.w = self.w - self.learning_rate * g\n",
        "            t += 1\n",
        "\n",
        "        if self.verbose:\n",
        "            print(f'terminated after {t} iterations, with norm of the gradient equal to {np.linalg.norm(g)}')\n",
        "            print(f'the weight found: {self.w}')\n",
        "        return self\n",
        "    \n",
        "    def predict(self, x):\n",
        "        if x.ndim == 1:\n",
        "            x = x[:, None]\n",
        "        Nt = x.shape[0]\n",
        "        if self.add_bias:\n",
        "            x = np.column_stack([x,np.ones(Nt)])\n",
        "        yh = logistic(np.dot(x,self.w))            #predict output\n",
        "        return yh"
      ],
      "execution_count": null,
      "outputs": []
    },
    {
      "cell_type": "markdown",
      "metadata": {
        "id": "qT4gDWybhCiV"
      },
      "source": [
        "Comparing across different minibatch sizes with best model obtained from part 1.1: **learning_rate = 0.002** and **max_iters = 1e6**"
      ]
    },
    {
      "cell_type": "code",
      "metadata": {
        "colab": {
          "base_uri": "https://localhost:8080/"
        },
        "id": "c7AKSklZhRrU",
        "outputId": "ed968ccf-e782-4e43-873f-597fe729f7ca"
      },
      "source": [
        "learning_rate = 0.002\n",
        "num_epochs = 1e6\n",
        "accuracies_sizes = []\n",
        "batch_sizes = [8, 16, 32, 64, 128, 256]\n",
        "times=[]\n",
        "\n",
        "for size in batch_sizes:\n",
        "      start = time.time()\n",
        "      mini_model = mini_batch_gradient_descent(verbose=True, num_epochs=num_epochs, learning_rate=learning_rate, batch_size=size)\n",
        "      my_mini_model = mini_model.fit(df_train[features].to_numpy(), df_train.iloc[: , -1].to_numpy()) # train model on training data with current rate\n",
        "      predictions = my_mini_model.predict(df_val[features].to_numpy())\n",
        "      end = time.time()\n",
        "\n",
        "      binary_predictions = np.where((predictions > 0.5), 1, 0)\n",
        "      time_cost=end-start\n",
        "      times.append(time_cost)\n",
        "      val_accuracy = np.mean(binary_predictions == df_val.iloc[: , -1].to_numpy())\n",
        "      print(\"Validation Accuracy calculated: {} (batch size = {})\".format(val_accuracy, size))\n",
        "      accuracies_sizes.append((size, val_accuracy))    "
      ],
      "execution_count": null,
      "outputs": [
        {
          "output_type": "stream",
          "name": "stdout",
          "text": [
            "terminated after 233 iterations, with norm of the gradient equal to 2.2664970865017295e-05\n",
            "the weight found: [ 0.93405142  0.04183352 -0.26638916  0.02968516 -0.02826329  0.28379682\n",
            " -0.10649682 -1.23477468]\n",
            "Validation Accuracy calculated: 0.62 (batch size = 8)\n",
            "terminated after 55241 iterations, with norm of the gradient equal to 8.996043889071264e-09\n",
            "the weight found: [ 6.68107015e-01  4.10121732e-02 -1.15841378e-01 -2.69237634e-02\n",
            "  3.59779925e-01  4.03304648e+00  1.04883324e-02 -3.61990131e+01]\n",
            "Validation Accuracy calculated: 0.65 (batch size = 16)\n",
            "terminated after 1000000 iterations, with norm of the gradient equal to 29.091836467223384\n",
            "the weight found: [ 6.61491312e-01  1.81544187e-01 -2.22272225e-02 -1.80113045e-02\n",
            "  3.65267935e-01  3.86979351e+00  7.92761278e-02 -3.49482290e+01]\n",
            "Validation Accuracy calculated: 0.68 (batch size = 32)\n",
            "terminated after 1000000 iterations, with norm of the gradient equal to 34.531105653257804\n",
            "the weight found: [ 6.37801333e-01  1.18403557e-01 -6.58989020e-02 -1.85788949e-02\n",
            "  3.63118775e-01  3.79278489e+00  2.40305962e-02 -3.47377072e+01]\n",
            "Validation Accuracy calculated: 0.75 (batch size = 64)\n",
            "terminated after 1000000 iterations, with norm of the gradient equal to 58.951654106987405\n",
            "the weight found: [ 6.38496402e-01  9.34131844e-02 -5.94500426e-02 -2.23740239e-02\n",
            "  3.58613429e-01  3.73229576e+00  3.09074999e-02 -3.54949310e+01]\n",
            "Validation Accuracy calculated: 0.67 (batch size = 128)\n",
            "terminated after 1000000 iterations, with norm of the gradient equal to 32.59966737440574\n",
            "the weight found: [ 6.53202213e-01  1.34952390e-01 -7.17996045e-02 -3.08245223e-02\n",
            "  3.70623448e-01  3.62540875e+00  3.09443778e-02 -3.64383634e+01]\n",
            "Validation Accuracy calculated: 0.76 (batch size = 256)\n"
          ]
        }
      ]
    },
    {
      "cell_type": "markdown",
      "metadata": {
        "id": "K9C51UIqkdgE"
      },
      "source": [
        "Plot Validation Accuracy vs. mini batch size on validation data"
      ]
    },
    {
      "cell_type": "code",
      "metadata": {
        "colab": {
          "base_uri": "https://localhost:8080/",
          "height": 296
        },
        "id": "LIzJ4dbRmERY",
        "outputId": "f91197f1-4495-4828-a2fb-ca6a8225e84f"
      },
      "source": [
        "#unpack accuracies_sizes into lists\n",
        "sizes, accuracies = zip(*accuracies_sizes)\n",
        "\n",
        "# plotting accuracy for given learning rate\n",
        "plt.plot(sizes, accuracies,marker='o')\n",
        "\n",
        "plt.xlabel(\"mini batch sizes\")\n",
        "plt.ylabel(\"Accuracy on Validation data\")\n",
        "\n",
        "highest_accu = accuracies[0]\n",
        "highest_size = 4\n",
        "\n",
        "for i in range(len(accuracies)):\n",
        "  if (accuracies[i]>highest_accu):\n",
        "    highest_accu = accuracies[i]\n",
        "    highest_size = sizes[i]\n",
        "    \n",
        "\n",
        "plt.show()\n",
        "print(\"Highest Validation Accuracy Achieved: {}%   at (batch size = {} with learning rate= 0.002, number of epochs=1e6)\".format(highest_accu * 100, highest_size))"
      ],
      "execution_count": null,
      "outputs": [
        {
          "output_type": "display_data",
          "data": {
            "image/png": "[encoded data removed]",
            "text/plain": [
              "<Figure size 432x288 with 1 Axes>"
            ]
          },
          "metadata": {
            "needs_background": "light"
          }
        },
        {
          "output_type": "stream",
          "name": "stdout",
          "text": [
            "Highest Validation Accuracy Achieved: 76.0%   at (batch size = 256 with learning rate= 0.002, number of epochs=1e6)\n"
          ]
        }
      ]
    },
    {
      "cell_type": "markdown",
      "metadata": {
        "id": "xcokk8f84Yu4"
      },
      "source": [
        "Plot Convergence speed (in terms of number of seconds it takes to run) vs. mini batch sizes"
      ]
    },
    {
      "cell_type": "code",
      "metadata": {
        "colab": {
          "base_uri": "https://localhost:8080/",
          "height": 303
        },
        "id": "FmpsS4-K4YHb",
        "outputId": "a11b4a22-5b29-489f-fe5c-8ee7332441ac"
      },
      "source": [
        "plt.plot(sizes, times, marker='o')\n",
        "\n",
        "plt.xlabel(\"mini batch sizes\")\n",
        "plt.ylabel(\"Convergence Speed (computational time) in seconds\")\n",
        "plt.show()"
      ],
      "execution_count": null,
      "outputs": [
        {
          "output_type": "display_data",
          "data": {
            "image/png": "[encoded data removed]",
            "text/plain": [
              "<Figure size 432x288 with 1 Axes>"
            ]
          },
          "metadata": {
            "needs_background": "light"
          }
        }
      ]
    },
    {
      "cell_type": "markdown",
      "metadata": {
        "id": "-kQvOf_azSHa"
      },
      "source": [
        "Find convergence time on fully batched baseline with the best model found in part 1"
      ]
    },
    {
      "cell_type": "code",
      "metadata": {
        "id": "mjzKrq2TzF5Y",
        "colab": {
          "base_uri": "https://localhost:8080/"
        },
        "outputId": "536458fe-0278-4e98-add4-c2497a57322d"
      },
      "source": [
        "# Best model Full batch found on cross-validation: learning_rate = 0.002 and max_iters = 1e6\n",
        "\n",
        "rate = 0.002\n",
        "num_epochs = 1e6\n",
        "start = time.time()\n",
        "model = LogisticRegression(learning_rate=rate, max_iters=num_epochs, verbose=True)\n",
        "my_model = model.fit(df_train[features].to_numpy(), df_train.iloc[: , -1].to_numpy())\n",
        "end = time.time()\n",
        "# validation acc\n",
        "predictions = my_model.predict(df_val[features].to_numpy())\n",
        "binary_predictions = np.where((predictions > 0.5), 1, 0)\n",
        "val_accuracy = np.mean(binary_predictions == df_val.iloc[: , -1].to_numpy())\n",
        "# train acc\n",
        "predictions = my_model.predict(df_train[features].to_numpy())\n",
        "binary_predictions = np.where((predictions > 0.5), 1, 0)\n",
        "train_accuracy = np.mean(binary_predictions == df_train.iloc[: , -1].to_numpy())\n",
        "# test acc\n",
        "predictions = my_model.predict(df_test[features].to_numpy())\n",
        "binary_predictions = np.where((predictions > 0.5), 1, 0)\n",
        "test_accuracy = np.mean(binary_predictions == df_test.iloc[: , -1].to_numpy())\n",
        "\n",
        "time_len = end-start\n",
        "print(\"convergence speed in terms of number of seconds take to run: {}\".format(time_len))\n",
        "\n",
        "print(\"Training Accuracy: {}% \".format(train_accuracy * 100))\n",
        "print(\"Validation Accuracy: {}% \".format(val_accuracy * 100))\n",
        "print(\"Testing Accuracy: {}% \".format(test_accuracy * 100))"
      ],
      "execution_count": null,
      "outputs": [
        {
          "output_type": "stream",
          "name": "stdout",
          "text": [
            "terminated after 1000000 iterations, with norm of the gradient equal to 44.75357487317937\n",
            "the weight found: [ 7.19562802e-01  1.35377202e-01 -9.00926539e-02 -2.08911460e-02\n",
            "  3.06101583e-01  3.69511048e+00  9.87417598e-03 -3.39474195e+01]\n",
            "convergence speed in terms of number of seconds take to run: 33.299784660339355\n",
            "Training Accuracy: 69.66666666666667% \n",
            "Validation Accuracy: 74.0% \n",
            "Testing Accuracy: 72.05882352941177% \n"
          ]
        }
      ]
    },
    {
      "cell_type": "markdown",
      "metadata": {
        "id": "34Jp1as5L1u5"
      },
      "source": [
        "## 3. Gradient Descent with Momentum"
      ]
    },
    {
      "cell_type": "code",
      "metadata": {
        "id": "s0LLtJpPPow8"
      },
      "source": [
        "class LogisticRegression_with_Momentum:\n",
        "    \n",
        "    def __init__(self, add_bias=True, learning_rate=0.002, epsilon=1e-4, max_iters=1e6, verbose=False, momentum_coeff=0.9):\n",
        "        self.add_bias = add_bias\n",
        "        self.learning_rate = learning_rate\n",
        "        self.epsilon = epsilon                        #to get the tolerance for the norm of gradients \n",
        "        self.max_iters = max_iters                    #maximum number of iteration of gradient descent\n",
        "        self.verbose = verbose\n",
        "        self.momentum_coeff = momentum_coeff\n",
        "        \n",
        "    def fit(self, x, y):\n",
        "        if x.ndim == 1:\n",
        "            x = x[:, None]\n",
        "        if self.add_bias:\n",
        "            N = x.shape[0]\n",
        "            x = np.column_stack([x,np.ones(N)])\n",
        "        N,D = x.shape\n",
        "        self.w = np.zeros(D)\n",
        "        g = np.inf \n",
        "        t = 0\n",
        "        self.delta_w = 0\n",
        "        # the code snippet below is for gradient descent\n",
        "        while np.linalg.norm(g) > self.epsilon and t < self.max_iters:\n",
        "            g = self.gradient(x, y)\n",
        "            self.delta_w = self.momentum_coeff * self.delta_w + (1-self.momentum_coeff) * g # implementing the momentum\n",
        "            self.w = self.w - self.learning_rate * self.delta_w\n",
        "            t += 1\n",
        "        \n",
        "        if self.verbose:\n",
        "            print(f'terminated after {t} iterations, with norm of the gradient equal to {np.linalg.norm(g)}')\n",
        "            print(f'the weight found: {self.w}')\n",
        "        return self\n",
        "    \n",
        "    def predict(self, x):\n",
        "        if x.ndim == 1:\n",
        "            x = x[:, None]\n",
        "        Nt = x.shape[0]\n",
        "        if self.add_bias:\n",
        "            x = np.column_stack([x,np.ones(Nt)])\n",
        "        yh = logistic(np.dot(x,self.w))            #predict output\n",
        "        return yh\n",
        "\n",
        "LogisticRegression_with_Momentum.gradient = gradient             #initialize the gradient method of the LogisticRegression class with gradient function"
      ],
      "execution_count": null,
      "outputs": []
    },
    {
      "cell_type": "code",
      "metadata": {
        "colab": {
          "base_uri": "https://localhost:8080/"
        },
        "id": "G293Q3TwcGEy",
        "outputId": "0a32fc7e-0605-49f6-d6a8-9fe3ea24961a"
      },
      "source": [
        "# The baseline for this part (Full batch gradient descent LogisticRegression with learning rate=0.002 and max_iters=1e6)\n",
        "\n",
        "rate = 0.002\n",
        "num_epochs = 1e6\n",
        "start = time.time()\n",
        "model = LogisticRegression(learning_rate=rate, max_iters=num_epochs, verbose=True)\n",
        "base_model = model.fit(df_train[features].to_numpy(), df_train.iloc[: , -1].to_numpy()) # train model on training data with baseline model\n",
        "end = time.time()\n",
        "# validation acc\n",
        "predictions = base_model.predict(df_val[features].to_numpy())\n",
        "binary_predictions = np.where((predictions > 0.5), 1, 0)\n",
        "val_accuracy = np.mean(binary_predictions == df_val.iloc[: , -1].to_numpy())\n",
        "# train acc\n",
        "predictions = base_model.predict(df_train[features].to_numpy())\n",
        "binary_predictions = np.where((predictions > 0.5), 1, 0)\n",
        "train_accuracy = np.mean(binary_predictions == df_train.iloc[: , -1].to_numpy())\n",
        "# test acc\n",
        "predictions = base_model.predict(df_test[features].to_numpy())\n",
        "binary_predictions = np.where((predictions > 0.5), 1, 0)\n",
        "test_accuracy = np.mean(binary_predictions == df_test.iloc[: , -1].to_numpy())\n",
        "\n",
        "time_len = end-start\n",
        "print(\"convergence speed in terms of number of seconds take to run: {}\".format(time_len))\n",
        "\n",
        "print(\"Training Accuracy: {}% \".format(train_accuracy * 100))\n",
        "print(\"Validation Accuracy: {}% \".format(val_accuracy * 100))\n",
        "print(\"Testing Accuracy: {}% \".format(test_accuracy * 100))"
      ],
      "execution_count": null,
      "outputs": [
        {
          "output_type": "stream",
          "name": "stdout",
          "text": [
            "terminated after 1000000 iterations, with norm of the gradient equal to 44.75357487317937\n",
            "the weight found: [ 7.19562802e-01  1.35377202e-01 -9.00926539e-02 -2.08911460e-02\n",
            "  3.06101583e-01  3.69511048e+00  9.87417598e-03 -3.39474195e+01]\n",
            "convergence speed in terms of number of seconds take to run: 33.34634876251221\n",
            "Training Accuracy: 69.66666666666667% \n",
            "Validation Accuracy: 74.0% \n",
            "Testing Accuracy: 72.05882352941177% \n"
          ]
        }
      ]
    },
    {
      "cell_type": "code",
      "metadata": {
        "colab": {
          "base_uri": "https://localhost:8080/"
        },
        "id": "5NTyWOVKgIVM",
        "outputId": "4ef2628e-c1f0-435f-946d-821f60100615"
      },
      "source": [
        "momentum_coeffs = [0, 0.1, 0.2, 0.3, 0.4, 0.5, 0.6, 0.7, 0.8, 0.9, 0.95, 0.99]\n",
        "val_accuracies = []\n",
        "tr_accuracies = []\n",
        "running_time = []\n",
        "\n",
        "for beta in momentum_coeffs:\n",
        "  start = time.time()\n",
        "  model = LogisticRegression_with_Momentum(verbose=True, momentum_coeff=beta)\n",
        "  my_model = model.fit(df_train[features].to_numpy(), df_train.iloc[: , -1].to_numpy()) # train model on training data with current momentum coefficient\n",
        "  end = time.time()\n",
        "  temp = end - start\n",
        "  running_time.append(temp)\n",
        "  \n",
        "  predictions = my_model.predict(df_val[features].to_numpy())\n",
        "  binary_predictions = np.where((predictions > 0.5), 1, 0)\n",
        "  val_accuracy = np.mean(binary_predictions == df_val.iloc[: , -1].to_numpy())\n",
        "  print(\"Validation Accuracy calculated: {} (beta= {})\".format(val_accuracy, beta))\n",
        "  val_accuracies.append((beta, val_accuracy))\n",
        "\n",
        "  predictions = my_model.predict(df_train[features].to_numpy())\n",
        "  binary_predictions = np.where((predictions > 0.5), 1, 0)\n",
        "  tr_accuracy = np.mean(binary_predictions == df_train.iloc[: , -1].to_numpy())\n",
        "  print(\"Training Accuracy calculated: {} (beta= {})\".format(tr_accuracy, beta))\n",
        "  tr_accuracies.append((beta, tr_accuracy))"
      ],
      "execution_count": null,
      "outputs": [
        {
          "output_type": "stream",
          "name": "stdout",
          "text": [
            "terminated after 1000000 iterations, with norm of the gradient equal to 44.75357487317937\n",
            "the weight found: [ 7.19562802e-01  1.35377202e-01 -9.00926539e-02 -2.08911460e-02\n",
            "  3.06101583e-01  3.69511048e+00  9.87417598e-03 -3.39474195e+01]\n",
            "Validation Accuracy calculated: 0.74 (beta= 0)\n",
            "Training Accuracy calculated: 0.6966666666666667 (beta= 0)\n",
            "terminated after 1000000 iterations, with norm of the gradient equal to 42.60660233120533\n",
            "the weight found: [ 5.63112894e-01  1.10061169e-01 -6.66967099e-02 -1.94570069e-02\n",
            "  2.72300434e-01  2.95765375e+00  1.51992351e-02 -2.86968875e+01]\n",
            "Validation Accuracy calculated: 0.75 (beta= 0.1)\n",
            "Training Accuracy calculated: 0.7033333333333334 (beta= 0.1)\n",
            "terminated after 1000000 iterations, with norm of the gradient equal to 40.38528048161312\n",
            "the weight found: [ 4.42522204e-01  1.33048922e-01 -2.55794152e-02 -9.72413219e-03\n",
            "  2.45438690e-01  2.37977550e+00  2.92388373e-02 -2.37973049e+01]\n",
            "Validation Accuracy calculated: 0.69 (beta= 0.2)\n",
            "Training Accuracy calculated: 0.6766666666666666 (beta= 0.2)\n",
            "terminated after 1000000 iterations, with norm of the gradient equal to 37.80443100180035\n",
            "the weight found: [ 3.43970929e-01  7.00863660e-02 -3.72776442e-02 -1.35929539e-02\n",
            "  1.93067675e-01  1.91719864e+00  1.62387220e-02 -1.92191274e+01]\n",
            "Validation Accuracy calculated: 0.76 (beta= 0.3)\n",
            "Training Accuracy calculated: 0.7166666666666667 (beta= 0.3)\n",
            "terminated after 1000000 iterations, with norm of the gradient equal to 34.05757477618192\n",
            "the weight found: [ 2.64737482e-01  7.84301459e-02 -1.46084733e-02 -6.60657669e-03\n",
            "  1.58839112e-01  1.51759243e+00  2.08371410e-02 -1.50002544e+01]\n",
            "Validation Accuracy calculated: 0.7 (beta= 0.4)\n",
            "Training Accuracy calculated: 0.695 (beta= 0.4)\n",
            "terminated after 1000000 iterations, with norm of the gradient equal to 26.26477049610332\n",
            "the weight found: [ 1.94882646e-01  5.55231731e-02 -1.16258765e-02 -5.33933167e-03\n",
            "  1.19193675e-01  1.14787091e+00  1.57809460e-02 -1.11719928e+01]\n",
            "Validation Accuracy calculated: 0.73 (beta= 0.5)\n",
            "Training Accuracy calculated: 0.7316666666666667 (beta= 0.5)\n",
            "terminated after 931049 iterations, with norm of the gradient equal to 9.999995783428596e-05\n",
            "the weight found: [ 1.46056094e-01  3.57815066e-02 -1.18344810e-02 -5.24448258e-03\n",
            "  9.00224425e-02  8.70146705e-01  1.09278499e-02 -8.47034598e+00]\n",
            "Validation Accuracy calculated: 0.75 (beta= 0.6)\n",
            "Training Accuracy calculated: 0.7783333333333333 (beta= 0.6)\n",
            "terminated after 976710 iterations, with norm of the gradient equal to 9.99996849675276e-05\n",
            "the weight found: [ 1.46056095e-01  3.57815069e-02 -1.18344808e-02 -5.24448270e-03\n",
            "  9.00224440e-02  8.70146715e-01  1.09278502e-02 -8.47034609e+00]\n",
            "Validation Accuracy calculated: 0.75 (beta= 0.7)\n",
            "Training Accuracy calculated: 0.7783333333333333 (beta= 0.7)\n",
            "terminated after 976702 iterations, with norm of the gradient equal to 9.999959866650091e-05\n",
            "the weight found: [ 1.46056095e-01  3.57815070e-02 -1.18344808e-02 -5.24448273e-03\n",
            "  9.00224444e-02  8.70146718e-01  1.09278503e-02 -8.47034612e+00]\n",
            "Validation Accuracy calculated: 0.75 (beta= 0.8)\n",
            "Training Accuracy calculated: 0.7783333333333333 (beta= 0.8)\n",
            "terminated after 976677 iterations, with norm of the gradient equal to 9.999989192694786e-05\n",
            "the weight found: [ 1.46056094e-01  3.57815067e-02 -1.18344809e-02 -5.24448261e-03\n",
            "  9.00224429e-02  8.70146707e-01  1.09278500e-02 -8.47034601e+00]\n",
            "Validation Accuracy calculated: 0.75 (beta= 0.9)\n",
            "Training Accuracy calculated: 0.7783333333333333 (beta= 0.9)\n",
            "terminated after 976628 iterations, with norm of the gradient equal to 9.999998942660228e-05\n",
            "the weight found: [ 1.46056094e-01  3.57815066e-02 -1.18344810e-02 -5.24448257e-03\n",
            "  9.00224424e-02  8.70146704e-01  1.09278499e-02 -8.47034597e+00]\n",
            "Validation Accuracy calculated: 0.75 (beta= 0.95)\n",
            "Training Accuracy calculated: 0.7783333333333333 (beta= 0.95)\n",
            "terminated after 976238 iterations, with norm of the gradient equal to 9.999963465851218e-05\n",
            "the weight found: [ 1.46056095e-01  3.57815070e-02 -1.18344808e-02 -5.24448272e-03\n",
            "  9.00224442e-02  8.70146716e-01  1.09278502e-02 -8.47034611e+00]\n",
            "Validation Accuracy calculated: 0.75 (beta= 0.99)\n",
            "Training Accuracy calculated: 0.7783333333333333 (beta= 0.99)\n"
          ]
        }
      ]
    },
    {
      "cell_type": "code",
      "metadata": {
        "colab": {
          "base_uri": "https://localhost:8080/",
          "height": 283
        },
        "id": "uiR4C0vZgIRd",
        "outputId": "271c8c0d-357b-45da-c1ff-0609c8ebf3fb"
      },
      "source": [
        "#unpack accuracies into lists\n",
        "mom_coeff, val_acc = zip(*val_accuracies)\n",
        "mom_coeff, tr_acc = zip(*tr_accuracies)\n",
        "\n",
        "# plotting accuracy for given learning rate\n",
        "plt.xticks(np.arange(min(mom_coeff), max(mom_coeff)+0.1, 0.1))\n",
        "plt.plot(mom_coeff, tr_acc, marker='o')\n",
        "plt.plot(mom_coeff, val_acc, marker='o')\n",
        "\n",
        "plt.legend(['Training','Validation'])\n",
        "plt.xlabel(r\"Momentum Coefficient($\\beta$)\")\n",
        "plt.ylabel(\"Accuracy\")\n",
        "\n",
        "plt.show()"
      ],
      "execution_count": null,
      "outputs": [
        {
          "output_type": "display_data",
          "data": {
            "image/png": "[encoded data removed]",
            "text/plain": [
              "<Figure size 432x288 with 1 Axes>"
            ]
          },
          "metadata": {
            "needs_background": "light"
          }
        }
      ]
    },
    {
      "cell_type": "code",
      "metadata": {
        "colab": {
          "base_uri": "https://localhost:8080/",
          "height": 307
        },
        "id": "9d9SEN5LgIK3",
        "outputId": "f6a7ff55-5e6c-4651-c18c-1115ea4ebf64"
      },
      "source": [
        "plt.xticks(np.arange(min(mom_coeff), max(mom_coeff)+0.1, 0.1))\n",
        "plt.plot(mom_coeff, running_time, marker='o')\n",
        "\n",
        "plt.xlabel(r\"Momentum Coefficient($\\beta$)\")\n",
        "plt.ylabel(\"Convergence Speed (computational time) in seconds\")\n",
        "plt.show()"
      ],
      "execution_count": null,
      "outputs": [
        {
          "output_type": "display_data",
          "data": {
            "image/png": "[encoded data removed]",
            "text/plain": [
              "<Figure size 432x288 with 1 Axes>"
            ]
          },
          "metadata": {
            "needs_background": "light"
          }
        }
      ]
    },
    {
      "cell_type": "markdown",
      "metadata": {
        "id": "l3ZhAA8iw2MZ"
      },
      "source": [
        "Since there are a lot of $\\beta$ values achieving the same accuracy and have approximately the same convergence speed (these models converge before reaching **max_iterations**), we try a lower max_iterations value."
      ]
    },
    {
      "cell_type": "code",
      "metadata": {
        "colab": {
          "base_uri": "https://localhost:8080/"
        },
        "id": "fwi7T2yXw19h",
        "outputId": "1a10ac63-e86f-451d-ad9f-47a10ada5341"
      },
      "source": [
        "momentum_coeffs = [0, 0.1, 0.2, 0.3, 0.4, 0.5, 0.6, 0.7, 0.8, 0.9, 0.95, 0.99]\n",
        "val_accuracies = []\n",
        "tr_accuracies = []\n",
        "running_time = []\n",
        "max_it = 4e4\n",
        "\n",
        "for beta in momentum_coeffs:\n",
        "  start = time.time()\n",
        "  model = LogisticRegression_with_Momentum(verbose=True, momentum_coeff=beta, max_iters=max_it)\n",
        "  my_model = model.fit(df_train[features].to_numpy(), df_train.iloc[: , -1].to_numpy()) # train model on training data with current momentum coefficient\n",
        "  end = time.time()\n",
        "  temp = end - start\n",
        "  running_time.append(temp)\n",
        "  \n",
        "  predictions = my_model.predict(df_val[features].to_numpy())\n",
        "  binary_predictions = np.where((predictions > 0.5), 1, 0)\n",
        "  val_accuracy = np.mean(binary_predictions == df_val.iloc[: , -1].to_numpy())\n",
        "  print(\"Validation Accuracy calculated: {} (beta= {})\".format(val_accuracy, beta))\n",
        "  val_accuracies.append((beta, val_accuracy))\n",
        "\n",
        "  predictions = my_model.predict(df_train[features].to_numpy())\n",
        "  binary_predictions = np.where((predictions > 0.5), 1, 0)\n",
        "  tr_accuracy = np.mean(binary_predictions == df_train.iloc[: , -1].to_numpy())\n",
        "  print(\"Training Accuracy calculated: {} (beta= {})\".format(tr_accuracy, beta))\n",
        "  tr_accuracies.append((beta, tr_accuracy))"
      ],
      "execution_count": null,
      "outputs": [
        {
          "output_type": "stream",
          "name": "stdout",
          "text": [
            "terminated after 40000 iterations, with norm of the gradient equal to 27.736158989784414\n",
            "the weight found: [ 0.81886263  0.06812872 -0.1925743   0.02559304 -0.02020255  0.60964256\n",
            " -0.0804839  -2.7336038 ]\n",
            "Validation Accuracy calculated: 0.65 (beta= 0)\n",
            "Training Accuracy calculated: 0.6616666666666666 (beta= 0)\n",
            "terminated after 40000 iterations, with norm of the gradient equal to 30.88284229317137\n",
            "the weight found: [ 4.51654866e-01  2.51851770e-02 -1.28854881e-01  1.46154319e-03\n",
            "  1.74544207e-02  5.85992538e-01 -4.38460145e-02 -2.49908615e+00]\n",
            "Validation Accuracy calculated: 0.63 (beta= 0.1)\n",
            "Training Accuracy calculated: 0.6566666666666666 (beta= 0.1)\n",
            "terminated after 40000 iterations, with norm of the gradient equal to 27.803540393097787\n",
            "the weight found: [ 0.43500375  0.09049279 -0.06824111  0.01466548  0.03575575  0.57492295\n",
            " -0.02253893 -2.52851903]\n",
            "Validation Accuracy calculated: 0.38 (beta= 0.2)\n",
            "Training Accuracy calculated: 0.36 (beta= 0.2)\n",
            "terminated after 40000 iterations, with norm of the gradient equal to 80.16061054017023\n",
            "the weight found: [ 4.10674862e-01  7.11550422e-03 -1.19350846e-01  7.69614700e-05\n",
            "  2.36817458e-03  5.61643724e-01 -4.77237203e-02 -2.59229639e+00]\n",
            "Validation Accuracy calculated: 0.64 (beta= 0.3)\n",
            "Training Accuracy calculated: 0.6483333333333333 (beta= 0.3)\n",
            "terminated after 40000 iterations, with norm of the gradient equal to 56.78305664323971\n",
            "the weight found: [ 0.34329671  0.05068496 -0.05994441  0.00957916  0.01779243  0.54641862\n",
            " -0.02620415 -2.61359667]\n",
            "Validation Accuracy calculated: 0.61 (beta= 0.4)\n",
            "Training Accuracy calculated: 0.6183333333333333 (beta= 0.4)\n",
            "terminated after 40000 iterations, with norm of the gradient equal to 28.908499727256732\n",
            "the weight found: [ 0.2573456   0.04494843 -0.04435657  0.00803607  0.0147567   0.5128858\n",
            " -0.01760656 -2.57361326]\n",
            "Validation Accuracy calculated: 0.56 (beta= 0.5)\n",
            "Training Accuracy calculated: 0.5683333333333334 (beta= 0.5)\n",
            "terminated after 40000 iterations, with norm of the gradient equal to 35.69988451896587\n",
            "the weight found: [ 1.76943555e-01  1.84861056e-02 -3.81095384e-02  2.00399056e-03\n",
            "  1.18188364e-02  4.30673280e-01 -1.40192318e-02 -2.47724524e+00]\n",
            "Validation Accuracy calculated: 0.66 (beta= 0.6)\n",
            "Training Accuracy calculated: 0.66 (beta= 0.6)\n",
            "terminated after 40000 iterations, with norm of the gradient equal to 0.023861740515658956\n",
            "the weight found: [ 1.25339417e-01  2.02507658e-02 -2.38915471e-02  1.01801728e-03\n",
            "  1.66581297e-02  3.51718314e-01 -6.01128344e-03 -2.36935992e+00]\n",
            "Validation Accuracy calculated: 0.74 (beta= 0.7)\n",
            "Training Accuracy calculated: 0.7516666666666667 (beta= 0.7)\n",
            "terminated after 40000 iterations, with norm of the gradient equal to 0.02386197858683374\n",
            "the weight found: [ 1.25339465e-01  2.02506546e-02 -2.38916765e-02  1.01805414e-03\n",
            "  1.66576032e-02  3.51717979e-01 -6.01144232e-03 -2.36931447e+00]\n",
            "Validation Accuracy calculated: 0.74 (beta= 0.8)\n",
            "Training Accuracy calculated: 0.7516666666666667 (beta= 0.8)\n",
            "terminated after 40000 iterations, with norm of the gradient equal to 0.02386272168197035\n",
            "the weight found: [ 1.25339616e-01  2.02503076e-02 -2.38920802e-02  1.01816914e-03\n",
            "  1.66559598e-02  3.51716950e-01 -6.01193833e-03 -2.36917258e+00]\n",
            "Validation Accuracy calculated: 0.74 (beta= 0.9)\n",
            "Training Accuracy calculated: 0.7516666666666667 (beta= 0.9)\n",
            "terminated after 40000 iterations, with norm of the gradient equal to 0.023864213065989598\n",
            "the weight found: [ 1.25339919e-01  2.02496112e-02 -2.38928905e-02  1.01839993e-03\n",
            "  1.66526615e-02  3.51714894e-01 -6.01293386e-03 -2.36888782e+00]\n",
            "Validation Accuracy calculated: 0.74 (beta= 0.95)\n",
            "Training Accuracy calculated: 0.7516666666666667 (beta= 0.95)\n",
            "terminated after 40000 iterations, with norm of the gradient equal to 0.023876158236227137\n",
            "the weight found: [ 1.25342357e-01  2.02440338e-02 -2.38993820e-02  1.02024682e-03\n",
            "  1.66262437e-02  3.51698870e-01 -6.02090901e-03 -2.36660715e+00]\n",
            "Validation Accuracy calculated: 0.74 (beta= 0.99)\n",
            "Training Accuracy calculated: 0.7516666666666667 (beta= 0.99)\n"
          ]
        }
      ]
    },
    {
      "cell_type": "code",
      "metadata": {
        "colab": {
          "base_uri": "https://localhost:8080/",
          "height": 283
        },
        "id": "eWVZ0eduxYEq",
        "outputId": "eceffda0-147e-4269-d7bd-f9b7022559b2"
      },
      "source": [
        "#unpack accuracies into lists\n",
        "mom_coeff, val_acc = zip(*val_accuracies)\n",
        "mom_coeff, tr_acc = zip(*tr_accuracies)\n",
        "\n",
        "# plotting accuracy for given learning rate\n",
        "plt.xticks(np.arange(min(mom_coeff), max(mom_coeff)+0.1, 0.1))\n",
        "plt.plot(mom_coeff, tr_acc, marker='o')\n",
        "plt.plot(mom_coeff, val_acc, marker='o')\n",
        "\n",
        "plt.legend(['Training','Validation'])\n",
        "plt.xlabel(r\"Momentum Coefficient ($\\beta$)\")\n",
        "plt.ylabel(\"Accuracy\")\n",
        "\n",
        "plt.show()"
      ],
      "execution_count": null,
      "outputs": [
        {
          "output_type": "display_data",
          "data": {
            "image/png": "[encoded data removed]",
            "text/plain": [
              "<Figure size 432x288 with 1 Axes>"
            ]
          },
          "metadata": {
            "needs_background": "light"
          }
        }
      ]
    },
    {
      "cell_type": "code",
      "metadata": {
        "colab": {
          "base_uri": "https://localhost:8080/",
          "height": 307
        },
        "id": "WYXRMsZ8xX7A",
        "outputId": "cdb76f87-9703-480f-c002-49904171dc65"
      },
      "source": [
        "plt.xticks(np.arange(min(mom_coeff), max(mom_coeff)+0.1, 0.1))\n",
        "plt.plot(mom_coeff, running_time, marker='o')\n",
        "\n",
        "plt.xlabel(r\"Momentum Coefficient ($\\beta$)\")\n",
        "plt.ylabel(\"Convergence Speed (computational time) in seconds\")\n",
        "plt.show()"
      ],
      "execution_count": null,
      "outputs": [
        {
          "output_type": "display_data",
          "data": {
            "image/png": "[encoded data removed]",
            "text/plain": [
              "<Figure size 432x288 with 1 Axes>"
            ]
          },
          "metadata": {
            "needs_background": "light"
          }
        }
      ]
    },
    {
      "cell_type": "markdown",
      "metadata": {
        "id": "G8vyiA8rkqRO"
      },
      "source": [
        "Considering the validation accuracy (the higher the better) and the convergence time (the lower the better), the best $\\beta$ value is **0.95**"
      ]
    },
    {
      "cell_type": "code",
      "metadata": {
        "colab": {
          "base_uri": "https://localhost:8080/"
        },
        "id": "jnvjEA7bgIHp",
        "outputId": "32e9293f-91b5-4706-b2f2-8420fa2ad0c2"
      },
      "source": [
        "# Reaching the same va_accuracy woth baseline model, in the less iterations\n",
        "accuracies = []\n",
        "running_time = []\n",
        "iter = 4e4\n",
        "best_beta = 0.95\n",
        "\n",
        "model = LogisticRegression_with_Momentum(max_iters=iter, verbose=True, momentum_coeff=best_beta)\n",
        "my_model = model.fit(df_train[features].to_numpy(), df_train.iloc[: , -1].to_numpy()) # train model on training data with current momentum coefficient\n",
        "predictions = my_model.predict(df_val[features].to_numpy())\n",
        "\n",
        "binary_predictions = np.where((predictions > 0.5), 1, 0)\n",
        "val_accuracy = np.mean(binary_predictions == df_val.iloc[: , -1].to_numpy())\n",
        "print(\"Validation Accuracy calculated: {} (beta= {})\".format(val_accuracy, best_beta))"
      ],
      "execution_count": null,
      "outputs": [
        {
          "output_type": "stream",
          "name": "stdout",
          "text": [
            "terminated after 40000 iterations, with norm of the gradient equal to 0.023864213065989598\n",
            "the weight found: [ 1.25339919e-01  2.02496112e-02 -2.38928905e-02  1.01839993e-03\n",
            "  1.66526615e-02  3.51714894e-01 -6.01293386e-03 -2.36888782e+00]\n",
            "Validation Accuracy calculated: 0.74 (beta= 0.95)\n"
          ]
        }
      ]
    },
    {
      "cell_type": "markdown",
      "metadata": {
        "id": "9vZSvCrJlfYH"
      },
      "source": [
        "Full Batch gradient descent with momentum achieves the same validation accuracy of the baseline model (Full Batch gradient descent) $\\frac{1e6}{4e4}=25$ times faster."
      ]
    },
    {
      "cell_type": "markdown",
      "metadata": {
        "id": "QNlRtBxSMfZC"
      },
      "source": [
        "## 4. Mini-batch Gradient Descent with Momentum"
      ]
    },
    {
      "cell_type": "code",
      "metadata": {
        "id": "gFAZhc1c9KqR"
      },
      "source": [
        "class mini_batch_LogisticRegression_with_Momentum:\n",
        "    \n",
        "    def __init__(self, add_bias=True, learning_rate=0.002, epsilon=1e-4, max_iters=1e6, verbose=False, batch_size = 128, momentum_coeff=0.9):\n",
        "        self.add_bias = add_bias\n",
        "        self.learning_rate = learning_rate\n",
        "        self.epsilon = epsilon                        #to get the tolerance for the norm of gradients \n",
        "        self.max_iters = max_iters                    #maximum number of iteration of gradient descent\n",
        "        self.verbose = verbose\n",
        "        self.batch_size=batch_size\n",
        "        self.momentum_coeff = momentum_coeff\n",
        "\n",
        "    def gradient(self, x, y):\n",
        "        N,D = x.shape\n",
        "        yh = logistic(np.dot(x, self.w))    # predictions  size N\n",
        "        grad = np.dot(x.T, yh - y)/N       # divide by N because cost is mean over N points\n",
        "        return grad\n",
        "        \n",
        "    def create_mini_batches(self,x, y, batch_size):\n",
        "        mini_batches = []\n",
        "        data = np.column_stack((x, y))\n",
        "        np.random.shuffle(data)\n",
        "        n_minibatches = x.shape[0] // batch_size\n",
        "        i = 0\n",
        "  \n",
        "        for i in range(n_minibatches):\n",
        "            mini_batch = data[i * batch_size:(i + 1)*batch_size, :]\n",
        "            x_mini = mini_batch[:, :-1]\n",
        "            y_mini = mini_batch[:, -1]\n",
        "            mini_batches.append((x_mini, y_mini))\n",
        "        if data.shape[0] % batch_size != 0:\n",
        "            mini_batch = data[i * batch_size:data.shape[0]]\n",
        "            x_mini = mini_batch[:, :-1]\n",
        "            y_mini = mini_batch[:, -1]\n",
        "            mini_batches.append((x_mini, y_mini))\n",
        "        return mini_batches\n",
        "\n",
        "    def fit(self, x, y):\n",
        "        if x.ndim == 1:\n",
        "            x = x[:, None]\n",
        "        if self.add_bias:\n",
        "            N = x.shape[0]\n",
        "            x = np.column_stack([x,np.ones(N)])\n",
        "        N,D = x.shape\n",
        "        self.w = np.zeros(D)\n",
        "        g = np.inf\n",
        "        t = 0\n",
        "        self.delta_w = 0\n",
        "        # the code snippet below is for mini batch gradient descent\n",
        "        while np.linalg.norm(g) > self.epsilon and t < self.max_iters:\n",
        "            mini_batches = self.create_mini_batches(x,y,self.batch_size)\n",
        "            for mini_batch in mini_batches:\n",
        "                x_mini,y_mini = mini_batch\n",
        "                g = self.gradient(x_mini, y_mini)\n",
        "                self.delta_w = self.momentum_coeff * self.delta_w + (1-self.momentum_coeff) * g\n",
        "                self.w = self.w - self.learning_rate * self.delta_w\n",
        "            t += 1\n",
        "\n",
        "        \n",
        "        if self.verbose:\n",
        "            print(f'terminated after {t} iterations, with norm of the gradient equal to {np.linalg.norm(g)}')\n",
        "            print(f'the weight found: {self.w}')\n",
        "        return self\n",
        "    \n",
        "    def predict(self, x):\n",
        "        if x.ndim == 1:\n",
        "            x = x[:, None]\n",
        "        Nt = x.shape[0]\n",
        "        if self.add_bias:\n",
        "            x = np.column_stack([x,np.ones(Nt)])\n",
        "        yh = logistic(np.dot(x,self.w))            #predict output\n",
        "        return yh\n",
        "\n",
        "mini_batch_LogisticRegression_with_Momentum.gradient = gradient             #initialize the gradient method of the mini_batch_LogisticRegression_with_Momentum class with gradient function"
      ],
      "execution_count": null,
      "outputs": []
    },
    {
      "cell_type": "code",
      "metadata": {
        "colab": {
          "base_uri": "https://localhost:8080/"
        },
        "id": "8aK50iCAhlY4",
        "outputId": "a9df46c0-c573-46bc-f435-ac102b0a1250"
      },
      "source": [
        "# the smallest batch size\n",
        "the_batch_size = 8\n",
        "momentum_coeffs = [0.1, 0.3, 0.5, 0.8, 0.95]\n",
        "accuracies = []\n",
        "running_time = []\n",
        "\n",
        "for beta in momentum_coeffs:\n",
        "  start = time.time()\n",
        "  model = mini_batch_LogisticRegression_with_Momentum(verbose=True, batch_size=the_batch_size, momentum_coeff=beta)\n",
        "  my_model = model.fit(df_train[features].to_numpy(), df_train.iloc[: , -1].to_numpy()) # train model on training data with current momentum coefficient\n",
        "  end = time.time()\n",
        "  predictions = my_model.predict(df_val[features].to_numpy())\n",
        "\n",
        "  temp = end - start\n",
        "  running_time.append(temp)\n",
        "  binary_predictions = np.where((predictions > 0.5), 1, 0)\n",
        "  val_accuracy = np.mean(binary_predictions == df_val.iloc[: , -1].to_numpy())\n",
        "  print(\"Validation Accuracy calculated: {} (beta= {})\".format(val_accuracy, beta))\n",
        "  accuracies.append((beta, val_accuracy))"
      ],
      "execution_count": null,
      "outputs": [
        {
          "output_type": "stream",
          "name": "stdout",
          "text": [
            "terminated after 411 iterations, with norm of the gradient equal to 3.526518917806476e-05\n",
            "the weight found: [ 0.75646371 -0.04068309 -0.2002304   0.02068979 -0.01446236  0.49924989\n",
            " -0.06059077 -2.1309754 ]\n",
            "Validation Accuracy calculated: 0.65 (beta= 0.1)\n",
            "terminated after 2 iterations, with norm of the gradient equal to 7.230973421656491e-05\n",
            "the weight found: [ 0.05840752 -0.05880211 -0.15047112 -0.02799852 -0.05913604 -0.00027592\n",
            " -0.03924027 -0.01259354]\n",
            "Validation Accuracy calculated: 0.65 (beta= 0.3)\n",
            "terminated after 15127 iterations, with norm of the gradient equal to 3.6807013379480637e-07\n",
            "the weight found: [ 3.93457542e-01 -1.80621814e-02 -1.20329573e-01 -2.61240747e-02\n",
            "  1.77053862e-01  2.41977759e+00 -6.96583945e-04 -2.15809245e+01]\n",
            "Validation Accuracy calculated: 0.65 (beta= 0.5)\n",
            "terminated after 4049 iterations, with norm of the gradient equal to 1.051258322257682e-05\n",
            "the weight found: [ 2.64050243e-01  1.03744806e-02 -1.46417718e-01 -1.13737928e-02\n",
            "  5.02584154e-02  1.35616360e+00 -1.67771410e-02 -1.09651119e+01]\n",
            "Validation Accuracy calculated: 0.65 (beta= 0.8)\n",
            "terminated after 19828 iterations, with norm of the gradient equal to 7.060032224680184e-05\n",
            "the weight found: [ 2.61490871e-01  1.57695410e-02 -7.36207963e-02 -2.25566105e-02\n",
            "  1.51714374e-01  1.64143036e+00  5.34854505e-03 -1.50727032e+01]\n",
            "Validation Accuracy calculated: 0.65 (beta= 0.95)\n"
          ]
        }
      ]
    },
    {
      "cell_type": "code",
      "metadata": {
        "colab": {
          "base_uri": "https://localhost:8080/",
          "height": 284
        },
        "id": "Sl82ED7J1Guf",
        "outputId": "257c3c79-d283-4d84-9cb9-67d00f2d5a45"
      },
      "source": [
        "#unpack accuracies into lists\n",
        "mom_coeff, val_acc = zip(*accuracies)\n",
        "\n",
        "# plotting accuracy for given learning rate\n",
        "plt.xticks(np.arange(min(mom_coeff), max(mom_coeff)+0.1, 0.1))\n",
        "plt.plot(mom_coeff, val_acc, marker='o')\n",
        "\n",
        "plt.xlabel(r\"Momentum Coefficient ($\\beta$) - batch_size = $8$\")\n",
        "plt.ylabel(\"Accuracy on Validation data\")\n",
        "\n",
        "plt.show()"
      ],
      "execution_count": null,
      "outputs": [
        {
          "output_type": "display_data",
          "data": {
            "image/png": "[encoded data removed]",
            "text/plain": [
              "<Figure size 432x288 with 1 Axes>"
            ]
          },
          "metadata": {
            "needs_background": "light"
          }
        }
      ]
    },
    {
      "cell_type": "code",
      "metadata": {
        "colab": {
          "base_uri": "https://localhost:8080/",
          "height": 308
        },
        "id": "zSCIAgJh2EZ8",
        "outputId": "69349e21-5109-4a36-86bc-a88efeea9df8"
      },
      "source": [
        "plt.xticks(np.arange(min(mom_coeff), max(mom_coeff)+0.1, 0.1))\n",
        "plt.plot(mom_coeff, running_time, marker='o')\n",
        "\n",
        "plt.xlabel(r\"Momentum Coefficient ($\\beta$) - batch_size = $8$\")\n",
        "plt.ylabel(\"Convergence Speed (computational time) in seconds\")\n",
        "plt.show()"
      ],
      "execution_count": null,
      "outputs": [
        {
          "output_type": "display_data",
          "data": {
            "image/png": "[encoded data removed]",
            "text/plain": [
              "<Figure size 432x288 with 1 Axes>"
            ]
          },
          "metadata": {
            "needs_background": "light"
          }
        }
      ]
    },
    {
      "cell_type": "code",
      "metadata": {
        "id": "hkK0G_8YhlV8"
      },
      "source": [
        "# the largest batch size\n",
        "the_batch_size = 256\n",
        "momentum_coeffs = [0.1, 0.3, 0.5, 0.8, 0.95]\n",
        "accuracies = []\n",
        "running_time = []\n",
        "\n",
        "for beta in momentum_coeffs:\n",
        "  start = time.time()\n",
        "  model = mini_batch_LogisticRegression_with_Momentum(verbose=True, batch_size=the_batch_size, momentum_coeff=beta)\n",
        "  my_model = model.fit(df_train[features].to_numpy(), df_train.iloc[: , -1].to_numpy()) # train model on training data with current momentum coefficient\n",
        "  end = time.time()\n",
        "  predictions = my_model.predict(df_val[features].to_numpy())\n",
        "\n",
        "  temp = end - start\n",
        "  running_time.append(temp)\n",
        "  binary_predictions = np.where((predictions > 0.5), 1, 0)\n",
        "  val_accuracy = np.mean(binary_predictions == df_val.iloc[: , -1].to_numpy())\n",
        "  print(\"Validation Accuracy calculated: {} (beta= {})\".format(val_accuracy, beta))\n",
        "  accuracies.append((beta, val_accuracy))"
      ],
      "execution_count": null,
      "outputs": []
    },
    {
      "cell_type": "code",
      "metadata": {
        "id": "sXCLhIBL1qLU"
      },
      "source": [
        "#unpack accuracies into lists\n",
        "mom_coeff, val_acc = zip(*accuracies)\n",
        "\n",
        "# plotting accuracy for given learning rate\n",
        "plt.xticks(np.arange(min(mom_coeff), max(mom_coeff)+0.1, 0.1))\n",
        "plt.plot(mom_coeff, val_acc, marker='o')\n",
        "\n",
        "plt.xlabel(r\"Momentum Coefficient ($\\beta$) - batch_size = $256$\")\n",
        "plt.ylabel(\"Accuracy on Validation data\")\n",
        "\n",
        "plt.show()"
      ],
      "execution_count": null,
      "outputs": []
    },
    {
      "cell_type": "code",
      "metadata": {
        "id": "jI8MsPmr2Tni"
      },
      "source": [
        "plt.xticks(np.arange(min(mom_coeff), max(mom_coeff)+0.1, 0.1))\n",
        "plt.plot(mom_coeff, running_time, marker='o')\n",
        "\n",
        "plt.xlabel(r\"Momentum Coefficient ($\\beta$) - batch_size = $256$\")\n",
        "plt.ylabel(\"Convergence Speed (computational time) in seconds\")\n",
        "plt.show()"
      ],
      "execution_count": null,
      "outputs": []
    },
    {
      "cell_type": "code",
      "metadata": {
        "id": "QqogqtM4cF_m"
      },
      "source": [
        "# The full batch is considered in the Part 1.3"
      ],
      "execution_count": null,
      "outputs": []
    },
    {
      "cell_type": "markdown",
      "metadata": {
        "id": "LV4SJyOz3bXl"
      },
      "source": [
        "# Part 2. Text classification"
      ]
    },
    {
      "cell_type": "markdown",
      "metadata": {
        "id": "eAVobpdo66dY"
      },
      "source": [
        "## 2.1 Retrieving fakenews dataset"
      ]
    },
    {
      "cell_type": "code",
      "metadata": {
        "colab": {
          "base_uri": "https://localhost:8080/",
          "height": 443
        },
        "id": "8dKZgkKo69vU",
        "outputId": "b6853bc8-1b4a-41fe-99b5-c2b1b52d8063"
      },
      "source": [
        "# import dataset\n",
        "\n",
        "from google.colab import drive\n",
        "drive.mount('/content/drive', force_remount=False)\n",
        "\n",
        "df_train = pd.read_csv('/content/drive/MyDrive/MCGILL/COMP-551/data_A2/fake_news/fake_news_train.csv')\n",
        "df_test = pd.read_csv('/content/drive/MyDrive/MCGILL/COMP-551/data_A2/fake_news/fake_news_test.csv')\n",
        "df_val = pd.read_csv('/content/drive/MyDrive/MCGILL/COMP-551/data_A2/fake_news/fake_news_val.csv')\n",
        "\n",
        "df_val"
      ],
      "execution_count": null,
      "outputs": [
        {
          "output_type": "stream",
          "name": "stdout",
          "text": [
            "Drive already mounted at /content/drive; to attempt to forcibly remount, call drive.mount(\"/content/drive\", force_remount=True).\n"
          ]
        },
        {
          "output_type": "execute_result",
          "data": {
            "text/html": [
              "<div>\n",
              "<style scoped>\n",
              "    .dataframe tbody tr th:only-of-type {\n",
              "        vertical-align: middle;\n",
              "    }\n",
              "\n",
              "    .dataframe tbody tr th {\n",
              "        vertical-align: top;\n",
              "    }\n",
              "\n",
              "    .dataframe thead th {\n",
              "        text-align: right;\n",
              "    }\n",
              "</style>\n",
              "<table border=\"1\" class=\"dataframe\">\n",
              "  <thead>\n",
              "    <tr style=\"text-align: right;\">\n",
              "      <th></th>\n",
              "      <th>text</th>\n",
              "      <th>label</th>\n",
              "    </tr>\n",
              "  </thead>\n",
              "  <tbody>\n",
              "    <tr>\n",
              "      <th>0</th>\n",
              "      <td>When don't you have something appropriate to w...</td>\n",
              "      <td>0</td>\n",
              "    </tr>\n",
              "    <tr>\n",
              "      <th>1</th>\n",
              "      <td>Share this article with Google Plus\\nA brief g...</td>\n",
              "      <td>0</td>\n",
              "    </tr>\n",
              "    <tr>\n",
              "      <th>2</th>\n",
              "      <td>NEW YORK — Yankees beat reporter Brendan Kuty ...</td>\n",
              "      <td>1</td>\n",
              "    </tr>\n",
              "    <tr>\n",
              "      <th>3</th>\n",
              "      <td>The Goonies has always posed challenges for fi...</td>\n",
              "      <td>0</td>\n",
              "    </tr>\n",
              "    <tr>\n",
              "      <th>4</th>\n",
              "      <td>Parisians sang, lit candles and prayed to pay ...</td>\n",
              "      <td>1</td>\n",
              "    </tr>\n",
              "    <tr>\n",
              "      <th>...</th>\n",
              "      <td>...</td>\n",
              "      <td>...</td>\n",
              "    </tr>\n",
              "    <tr>\n",
              "      <th>1995</th>\n",
              "      <td>KABUL - In past several weeks, hectic negotiat...</td>\n",
              "      <td>1</td>\n",
              "    </tr>\n",
              "    <tr>\n",
              "      <th>1996</th>\n",
              "      <td>1) Where is Wan-Bissaka in the young player sh...</td>\n",
              "      <td>1</td>\n",
              "    </tr>\n",
              "    <tr>\n",
              "      <th>1997</th>\n",
              "      <td>It may seem counterintuitive that Calgary shou...</td>\n",
              "      <td>0</td>\n",
              "    </tr>\n",
              "    <tr>\n",
              "      <th>1998</th>\n",
              "      <td>The CEOs of America's biggest banks were summo...</td>\n",
              "      <td>1</td>\n",
              "    </tr>\n",
              "    <tr>\n",
              "      <th>1999</th>\n",
              "      <td>A tenth-grader was crushed at a school by a 7-...</td>\n",
              "      <td>0</td>\n",
              "    </tr>\n",
              "  </tbody>\n",
              "</table>\n",
              "<p>2000 rows × 2 columns</p>\n",
              "</div>"
            ],
            "text/plain": [
              "                                                   text  label\n",
              "0     When don't you have something appropriate to w...      0\n",
              "1     Share this article with Google Plus\\nA brief g...      0\n",
              "2     NEW YORK — Yankees beat reporter Brendan Kuty ...      1\n",
              "3     The Goonies has always posed challenges for fi...      0\n",
              "4     Parisians sang, lit candles and prayed to pay ...      1\n",
              "...                                                 ...    ...\n",
              "1995  KABUL - In past several weeks, hectic negotiat...      1\n",
              "1996  1) Where is Wan-Bissaka in the young player sh...      1\n",
              "1997  It may seem counterintuitive that Calgary shou...      0\n",
              "1998  The CEOs of America's biggest banks were summo...      1\n",
              "1999  A tenth-grader was crushed at a school by a 7-...      0\n",
              "\n",
              "[2000 rows x 2 columns]"
            ]
          },
          "metadata": {},
          "execution_count": 51
        }
      ]
    },
    {
      "cell_type": "code",
      "metadata": {
        "colab": {
          "base_uri": "https://localhost:8080/",
          "height": 462
        },
        "id": "TMLor8HDQs6y",
        "outputId": "0fe968ec-b28f-44db-9b1f-20fc8fa33dcf"
      },
      "source": [
        "# cleaning up the training data\n",
        "\n",
        "# checking if any column has null values \n",
        "for col in df_train.columns:\n",
        "    print(col, df_train[col].isnull().sum()) # prints 0 for both columns, no further action required for this\n",
        "\n",
        "# remove \\n occurences\n",
        "#df_train['text'] = df_train['text'].apply(lambda x: x.replace('\\n', ' ')) # Again, consider using or not\n",
        "\n",
        "df_train"
      ],
      "execution_count": null,
      "outputs": [
        {
          "output_type": "stream",
          "name": "stdout",
          "text": [
            "text 0\n",
            "label 0\n"
          ]
        },
        {
          "output_type": "execute_result",
          "data": {
            "text/html": [
              "<div>\n",
              "<style scoped>\n",
              "    .dataframe tbody tr th:only-of-type {\n",
              "        vertical-align: middle;\n",
              "    }\n",
              "\n",
              "    .dataframe tbody tr th {\n",
              "        vertical-align: top;\n",
              "    }\n",
              "\n",
              "    .dataframe thead th {\n",
              "        text-align: right;\n",
              "    }\n",
              "</style>\n",
              "<table border=\"1\" class=\"dataframe\">\n",
              "  <thead>\n",
              "    <tr style=\"text-align: right;\">\n",
              "      <th></th>\n",
              "      <th>text</th>\n",
              "      <th>label</th>\n",
              "    </tr>\n",
              "  </thead>\n",
              "  <tbody>\n",
              "    <tr>\n",
              "      <th>0</th>\n",
              "      <td>Indian fruit is so important to so many people...</td>\n",
              "      <td>0</td>\n",
              "    </tr>\n",
              "    <tr>\n",
              "      <th>1</th>\n",
              "      <td>FORT WORTH, Texas — Urú Inc. will hold a confe...</td>\n",
              "      <td>0</td>\n",
              "    </tr>\n",
              "    <tr>\n",
              "      <th>2</th>\n",
              "      <td>With three of the four new carriers, the Niger...</td>\n",
              "      <td>0</td>\n",
              "    </tr>\n",
              "    <tr>\n",
              "      <th>3</th>\n",
              "      <td>Let's start with the classic annual dividend r...</td>\n",
              "      <td>0</td>\n",
              "    </tr>\n",
              "    <tr>\n",
              "      <th>4</th>\n",
              "      <td>Following are some of the major events to have...</td>\n",
              "      <td>1</td>\n",
              "    </tr>\n",
              "    <tr>\n",
              "      <th>...</th>\n",
              "      <td>...</td>\n",
              "      <td>...</td>\n",
              "    </tr>\n",
              "    <tr>\n",
              "      <th>19995</th>\n",
              "      <td>Warning: small, petty spoilers for the Game of...</td>\n",
              "      <td>1</td>\n",
              "    </tr>\n",
              "    <tr>\n",
              "      <th>19996</th>\n",
              "      <td>Shilpa Shetty will soon make her Bollywood deb...</td>\n",
              "      <td>0</td>\n",
              "    </tr>\n",
              "    <tr>\n",
              "      <th>19997</th>\n",
              "      <td>Add a digital black hole image to the Allstate...</td>\n",
              "      <td>0</td>\n",
              "    </tr>\n",
              "    <tr>\n",
              "      <th>19998</th>\n",
              "      <td>Share\\nThe name W. L. Gore &amp; Associates might ...</td>\n",
              "      <td>1</td>\n",
              "    </tr>\n",
              "    <tr>\n",
              "      <th>19999</th>\n",
              "      <td>A comprehensive report recapping developments ...</td>\n",
              "      <td>1</td>\n",
              "    </tr>\n",
              "  </tbody>\n",
              "</table>\n",
              "<p>20000 rows × 2 columns</p>\n",
              "</div>"
            ],
            "text/plain": [
              "                                                    text  label\n",
              "0      Indian fruit is so important to so many people...      0\n",
              "1      FORT WORTH, Texas — Urú Inc. will hold a confe...      0\n",
              "2      With three of the four new carriers, the Niger...      0\n",
              "3      Let's start with the classic annual dividend r...      0\n",
              "4      Following are some of the major events to have...      1\n",
              "...                                                  ...    ...\n",
              "19995  Warning: small, petty spoilers for the Game of...      1\n",
              "19996  Shilpa Shetty will soon make her Bollywood deb...      0\n",
              "19997  Add a digital black hole image to the Allstate...      0\n",
              "19998  Share\\nThe name W. L. Gore & Associates might ...      1\n",
              "19999  A comprehensive report recapping developments ...      1\n",
              "\n",
              "[20000 rows x 2 columns]"
            ]
          },
          "metadata": {},
          "execution_count": 52
        }
      ]
    },
    {
      "cell_type": "markdown",
      "metadata": {
        "id": "81R7T8_RgLap"
      },
      "source": [
        "## 2.2 Experiments"
      ]
    },
    {
      "cell_type": "code",
      "metadata": {
        "colab": {
          "base_uri": "https://localhost:8080/"
        },
        "id": "pY5ASsjtYnKy",
        "outputId": "433e24ae-8bfd-43cb-ab24-fb8f637438ad"
      },
      "source": [
        "# testing a barebone implementation\n",
        "\n",
        "# build dictionary of features and transform documents to feature vectors using CountVectorizer from sklearn\n",
        "count_vect = CountVectorizer()\n",
        "X_train_counts = count_vect.fit_transform(df_train['text'])\n",
        "\n",
        "# convert occurences to frequencies \n",
        "tfidf_transformer = TfidfTransformer()\n",
        "X_train_tfidf = tfidf_transformer.fit_transform(X_train_counts)\n",
        "\n",
        "# train logistic regression model\n",
        "clf = LogisticRegression().fit(X_train_tfidf, df_train['label'])\n",
        "\n",
        "# extract features from test & val dataset to calculate predictions\n",
        "X_test_counts = count_vect.transform(df_test['text'])\n",
        "X_val_counts = count_vect.transform(df_val['text'])\n",
        "\n",
        "# convert occurences to frequencies \n",
        "tfidf_transformer = TfidfTransformer()\n",
        "X_test_tfidf = tfidf_transformer.fit_transform(X_test_counts)\n",
        "X_val_tfidf = tfidf_transformer.fit_transform(X_val_counts)\n",
        "\n",
        "\n",
        "# make predictions on validation, training and test dataset\n",
        "predictions_test = clf.predict(X_test_tfidf)\n",
        "accuracy_test = np.mean(predictions_test == df_test['label'])\n",
        "\n",
        "predictions_val = clf.predict(X_val_counts)\n",
        "accuracy_val = np.mean(predictions_val == df_val['label'])\n",
        "\n",
        "predictions_train = clf.predict(X_train_tfidf)\n",
        "accuracy_train = np.mean(predictions_train == df_train['label'])\n",
        "\n",
        "print('test accuracy: ' + str(accuracy_test))\n",
        "print('val accuracy: ' + str(accuracy_val))\n",
        "print('train accuracy: ' + str(accuracy_train))"
      ],
      "execution_count": null,
      "outputs": [
        {
          "output_type": "stream",
          "name": "stdout",
          "text": [
            "test accuracy: 0.711\n",
            "val accuracy: 0.4315\n",
            "train accuracy: 0.85515\n"
          ]
        }
      ]
    },
    {
      "cell_type": "code",
      "metadata": {
        "colab": {
          "base_uri": "https://localhost:8080/"
        },
        "id": "WE62vbZqatXx",
        "outputId": "b1b4b34f-77e8-41f5-9f2c-bc8b554dfc0a"
      },
      "source": [
        "# testing with english stop words list from nltk library\n",
        "# NOTE: not necessarily good to use because computer-generated text might have recognizable patterns using these words\n",
        "\n",
        "# Setup\n",
        "!pip install -q wordcloud\n",
        "import wordcloud\n",
        "\n",
        "import nltk\n",
        "nltk.download('stopwords') # stop words are not very informative so we wish to ignore them before we build feature vectors\n",
        "\n",
        "# build dictionary of features and transform documents to feature vectors using CountVectorizer from sklearn\n",
        "count_vect = CountVectorizer(stop_words=stopwords.words('english'))\n",
        "X_train_counts = count_vect.fit_transform(df_train['text'])\n",
        "\n",
        "# convert occurences to frequencies \n",
        "tfidf_transformer = TfidfTransformer()\n",
        "X_train_tfidf = tfidf_transformer.fit_transform(X_train_counts)\n",
        "\n",
        "# train logistic regression model\n",
        "clf = LogisticRegression().fit(X_train_tfidf, df_train['label'])\n",
        "\n",
        "# extract features from test & val dataset to calculate predictions\n",
        "X_test_counts = count_vect.transform(df_test['text'])\n",
        "X_val_counts = count_vect.transform(df_val['text'])\n",
        "\n",
        "# convert occurences to frequencies \n",
        "tfidf_transformer = TfidfTransformer()\n",
        "X_test_tfidf = tfidf_transformer.fit_transform(X_test_counts)\n",
        "X_val_tfidf = tfidf_transformer.fit_transform(X_val_counts)\n",
        "\n",
        "\n",
        "# make predictions on both validation and test dataset\n",
        "predictions_test = clf.predict(X_test_tfidf)\n",
        "accuracy_test = np.mean(predictions_test == df_test['label'])\n",
        "\n",
        "predictions_val = clf.predict(X_val_counts)\n",
        "accuracy_val = np.mean(predictions_val == df_val['label'])\n",
        "\n",
        "predictions_train = clf.predict(X_train_tfidf)\n",
        "accuracy_train = np.mean(predictions_train == df_train['label'])\n",
        "\n",
        "print('test accuracy: ' + str(accuracy_test))\n",
        "print('val accuracy: ' + str(accuracy_val))\n",
        "print('train accuracy: ' + str(accuracy_train))"
      ],
      "execution_count": null,
      "outputs": [
        {
          "output_type": "stream",
          "name": "stdout",
          "text": [
            "[nltk_data] Downloading package stopwords to /root/nltk_data...\n",
            "[nltk_data]   Package stopwords is already up-to-date!\n",
            "test accuracy: 0.6983333333333334\n",
            "val accuracy: 0.5925\n",
            "train accuracy: 0.8621\n"
          ]
        }
      ]
    },
    {
      "cell_type": "code",
      "metadata": {
        "colab": {
          "base_uri": "https://localhost:8080/"
        },
        "id": "dUUvl_QRdzYA",
        "outputId": "c0387c95-5875-481d-aa79-7151db5fc253"
      },
      "source": [
        "# testing various parameters for max_df and min_df\n",
        "\n",
        "# e.g max_df = 0.5 -> remove terms that are in more than half the articles\n",
        "\n",
        "n_min = [0, 0.05, 0.1, 0.15, 0.25]\n",
        "n_max = [0.6, 0.70, 0.85, 0.9, 0.95]\n",
        "\n",
        "accuracies = []\n",
        "\n",
        "for min in n_min:\n",
        "  for max in n_max:\n",
        "    # build dictionary of features and transform documents to feature vectors using CountVectorizer from sklearn\n",
        "    count_vect = CountVectorizer(min_df=min , max_df=max)\n",
        "    X_train_counts = count_vect.fit_transform(df_train['text'])\n",
        "\n",
        "    # convert occurences to frequencies \n",
        "    tfidf_transformer = TfidfTransformer()\n",
        "    X_train_tfidf = tfidf_transformer.fit_transform(X_train_counts)\n",
        "\n",
        "    # train logistic regression model\n",
        "    clf = LogisticRegression().fit(X_train_tfidf, df_train['label'])\n",
        "\n",
        "    # extract features from test & val dataset to calculate predictions\n",
        "    X_test_counts = count_vect.transform(df_test['text'])\n",
        "    X_val_counts = count_vect.transform(df_val['text'])\n",
        "\n",
        "    # convert occurences to frequencies \n",
        "    tfidf_transformer = TfidfTransformer()\n",
        "    X_test_tfidf = tfidf_transformer.fit_transform(X_test_counts)\n",
        "    X_val_tfidf = tfidf_transformer.fit_transform(X_val_counts)\n",
        "\n",
        "\n",
        "    # make predictions on both validation and test dataset\n",
        "    predictions_test = clf.predict(X_test_tfidf)\n",
        "    accuracy_test = np.mean(predictions_test == df_test['label'])\n",
        "\n",
        "    predictions_val = clf.predict(X_val_counts)\n",
        "    accuracy_val = np.mean(predictions_val == df_val['label'])\n",
        "\n",
        "    print('set of min, max: {} and {}'.format(min, max))\n",
        "    print('test dataset accuracy: ' + str(accuracy_test))\n",
        "    print('validation dataset accuracy: ' + str(accuracy_val) + '\\n')\n",
        "    accuracies.append(((accuracy_test, accuracy_val), (min, max)))\n"
      ],
      "execution_count": null,
      "outputs": [
        {
          "output_type": "stream",
          "name": "stdout",
          "text": [
            "set of min, max: 0 and 0.6\n",
            "test dataset accuracy: 0.7116666666666667\n",
            "validation dataset accuracy: 0.6585\n",
            "\n",
            "set of min, max: 0 and 0.7\n",
            "test dataset accuracy: 0.7093333333333334\n",
            "validation dataset accuracy: 0.612\n",
            "\n",
            "set of min, max: 0 and 0.85\n",
            "test dataset accuracy: 0.7093333333333334\n",
            "validation dataset accuracy: 0.5875\n",
            "\n",
            "set of min, max: 0 and 0.9\n",
            "test dataset accuracy: 0.7093333333333334\n",
            "validation dataset accuracy: 0.5875\n",
            "\n",
            "set of min, max: 0 and 0.95\n",
            "test dataset accuracy: 0.7113333333333334\n",
            "validation dataset accuracy: 0.5755\n",
            "\n",
            "set of min, max: 0.05 and 0.6\n",
            "test dataset accuracy: 0.682\n",
            "validation dataset accuracy: 0.6365\n",
            "\n",
            "set of min, max: 0.05 and 0.7\n",
            "test dataset accuracy: 0.684\n",
            "validation dataset accuracy: 0.641\n",
            "\n",
            "set of min, max: 0.05 and 0.85\n",
            "test dataset accuracy: 0.691\n",
            "validation dataset accuracy: 0.6405\n",
            "\n",
            "set of min, max: 0.05 and 0.9\n",
            "test dataset accuracy: 0.691\n",
            "validation dataset accuracy: 0.6405\n",
            "\n",
            "set of min, max: 0.05 and 0.95\n",
            "test dataset accuracy: 0.6906666666666667\n",
            "validation dataset accuracy: 0.6295\n",
            "\n",
            "set of min, max: 0.1 and 0.6\n",
            "test dataset accuracy: 0.6766666666666666\n",
            "validation dataset accuracy: 0.621\n",
            "\n",
            "set of min, max: 0.1 and 0.7\n",
            "test dataset accuracy: 0.6776666666666666\n",
            "validation dataset accuracy: 0.6165\n",
            "\n",
            "set of min, max: 0.1 and 0.85\n",
            "test dataset accuracy: 0.6743333333333333\n",
            "validation dataset accuracy: 0.6145\n",
            "\n",
            "set of min, max: 0.1 and 0.9\n",
            "test dataset accuracy: 0.6743333333333333\n",
            "validation dataset accuracy: 0.6145\n",
            "\n",
            "set of min, max: 0.1 and 0.95\n",
            "test dataset accuracy: 0.6763333333333333\n",
            "validation dataset accuracy: 0.6105\n",
            "\n",
            "set of min, max: 0.15 and 0.6\n",
            "test dataset accuracy: 0.6493333333333333\n",
            "validation dataset accuracy: 0.6095\n",
            "\n",
            "set of min, max: 0.15 and 0.7\n",
            "test dataset accuracy: 0.651\n",
            "validation dataset accuracy: 0.608\n",
            "\n",
            "set of min, max: 0.15 and 0.85\n",
            "test dataset accuracy: 0.649\n",
            "validation dataset accuracy: 0.606\n",
            "\n",
            "set of min, max: 0.15 and 0.9\n",
            "test dataset accuracy: 0.649\n",
            "validation dataset accuracy: 0.606\n",
            "\n",
            "set of min, max: 0.15 and 0.95\n",
            "test dataset accuracy: 0.6543333333333333\n",
            "validation dataset accuracy: 0.6035\n",
            "\n",
            "set of min, max: 0.25 and 0.6\n",
            "test dataset accuracy: 0.6126666666666667\n",
            "validation dataset accuracy: 0.603\n",
            "\n",
            "set of min, max: 0.25 and 0.7\n",
            "test dataset accuracy: 0.6116666666666667\n",
            "validation dataset accuracy: 0.6025\n",
            "\n",
            "set of min, max: 0.25 and 0.85\n",
            "test dataset accuracy: 0.6256666666666667\n",
            "validation dataset accuracy: 0.6015\n",
            "\n",
            "set of min, max: 0.25 and 0.9\n",
            "test dataset accuracy: 0.6256666666666667\n",
            "validation dataset accuracy: 0.6015\n",
            "\n",
            "set of min, max: 0.25 and 0.95\n",
            "test dataset accuracy: 0.6303333333333333\n",
            "validation dataset accuracy: 0.6005\n",
            "\n"
          ]
        }
      ]
    },
    {
      "cell_type": "code",
      "metadata": {
        "id": "gYStxi2l7UBs",
        "colab": {
          "base_uri": "https://localhost:8080/"
        },
        "outputId": "3bcc17ee-7f3a-4f71-b09f-26b729cdc879"
      },
      "source": [
        "# test for improvements in accuracy through n-gram parameter\n",
        "\n",
        "ngrams = [(1, 1), (1, 2), (1, 3)]\n",
        "\n",
        "for item in ngrams:\n",
        "  # build dictionary of features and transform documents to feature vectors using CountVectorizer from sklearn\n",
        "  count_vect = CountVectorizer(ngram_range=item, max_df=0.6)\n",
        "  X_train_counts = count_vect.fit_transform(df_train['text'])\n",
        "\n",
        "  # convert occurences to frequencies \n",
        "  tfidf_transformer = TfidfTransformer()\n",
        "  X_train_tfidf = tfidf_transformer.fit_transform(X_train_counts)\n",
        "\n",
        "  # train logistic regression model\n",
        "\n",
        "  clf = LogisticRegression().fit(X_train_tfidf, df_train['label'])\n",
        "\n",
        "  # extract features from test dataset to calculate predictions\n",
        "\n",
        "  X_test_counts = count_vect.transform(df_test['text'])\n",
        "\n",
        "  # convert occurences to frequencies \n",
        "  tfidf_transformer = TfidfTransformer()\n",
        "  X_test_tfidf = tfidf_transformer.fit_transform(X_test_counts)\n",
        "\n",
        "  # make predictions\n",
        "  predictions = clf.predict(X_test_tfidf)\n",
        "  accuracy = np.mean(predictions == df_test['label'])\n",
        "\n",
        "  print('Accuracy: ' + str(accuracy))"
      ],
      "execution_count": null,
      "outputs": [
        {
          "output_type": "stream",
          "name": "stdout",
          "text": [
            "Accuracy: 0.7116666666666667\n",
            "Accuracy: 0.7016666666666667\n",
            "Accuracy: 0.6546666666666666\n"
          ]
        }
      ]
    }
  ]
}